{
 "cells": [
  {
   "cell_type": "markdown",
   "metadata": {},
   "source": [
    "##### Problem Statement\n",
    "Due to the growing need of educated and talented individuals, \n",
    "especially in developing countries, recruiting fresh graduates is a routine practice for organizations.\n",
    "Conventional recruiting methods and selection processes can be prone to errors and in order to optimize the whole process, \n",
    "some innovative methods are needed.\n",
    "\n",
    "Can you monitor past data and use machine learning to predict whether the candidate gets placed ?"
   ]
  },
  {
   "cell_type": "markdown",
   "metadata": {},
   "source": [
    "#### importing libraries and data"
   ]
  },
  {
   "cell_type": "code",
   "execution_count": 1,
   "metadata": {},
   "outputs": [
    {
     "data": {
      "text/html": [
       "<div>\n",
       "<style scoped>\n",
       "    .dataframe tbody tr th:only-of-type {\n",
       "        vertical-align: middle;\n",
       "    }\n",
       "\n",
       "    .dataframe tbody tr th {\n",
       "        vertical-align: top;\n",
       "    }\n",
       "\n",
       "    .dataframe thead th {\n",
       "        text-align: right;\n",
       "    }\n",
       "</style>\n",
       "<table border=\"1\" class=\"dataframe\">\n",
       "  <thead>\n",
       "    <tr style=\"text-align: right;\">\n",
       "      <th></th>\n",
       "      <th>gender</th>\n",
       "      <th>ssc_percentage</th>\n",
       "      <th>ssc_board</th>\n",
       "      <th>hsc_percentage</th>\n",
       "      <th>hsc_board</th>\n",
       "      <th>hsc_subject</th>\n",
       "      <th>degree_percentage</th>\n",
       "      <th>undergrad_degree</th>\n",
       "      <th>work_experience</th>\n",
       "      <th>emp_test_percentage</th>\n",
       "      <th>specialisation</th>\n",
       "      <th>mba_percent</th>\n",
       "      <th>status</th>\n",
       "    </tr>\n",
       "  </thead>\n",
       "  <tbody>\n",
       "    <tr>\n",
       "      <th>0</th>\n",
       "      <td>M</td>\n",
       "      <td>67.00</td>\n",
       "      <td>Others</td>\n",
       "      <td>91.00</td>\n",
       "      <td>Others</td>\n",
       "      <td>Commerce</td>\n",
       "      <td>58.00</td>\n",
       "      <td>Sci&amp;Tech</td>\n",
       "      <td>No</td>\n",
       "      <td>55.0</td>\n",
       "      <td>Mkt&amp;HR</td>\n",
       "      <td>58.80</td>\n",
       "      <td>Placed</td>\n",
       "    </tr>\n",
       "    <tr>\n",
       "      <th>1</th>\n",
       "      <td>M</td>\n",
       "      <td>79.33</td>\n",
       "      <td>Central</td>\n",
       "      <td>78.33</td>\n",
       "      <td>Others</td>\n",
       "      <td>Science</td>\n",
       "      <td>77.48</td>\n",
       "      <td>Sci&amp;Tech</td>\n",
       "      <td>Yes</td>\n",
       "      <td>86.5</td>\n",
       "      <td>Mkt&amp;Fin</td>\n",
       "      <td>66.28</td>\n",
       "      <td>Placed</td>\n",
       "    </tr>\n",
       "    <tr>\n",
       "      <th>2</th>\n",
       "      <td>M</td>\n",
       "      <td>65.00</td>\n",
       "      <td>Central</td>\n",
       "      <td>68.00</td>\n",
       "      <td>Central</td>\n",
       "      <td>Arts</td>\n",
       "      <td>64.00</td>\n",
       "      <td>Comm&amp;Mgmt</td>\n",
       "      <td>No</td>\n",
       "      <td>75.0</td>\n",
       "      <td>Mkt&amp;Fin</td>\n",
       "      <td>57.80</td>\n",
       "      <td>Placed</td>\n",
       "    </tr>\n",
       "    <tr>\n",
       "      <th>3</th>\n",
       "      <td>M</td>\n",
       "      <td>56.00</td>\n",
       "      <td>Central</td>\n",
       "      <td>52.00</td>\n",
       "      <td>Central</td>\n",
       "      <td>Science</td>\n",
       "      <td>52.00</td>\n",
       "      <td>Sci&amp;Tech</td>\n",
       "      <td>No</td>\n",
       "      <td>66.0</td>\n",
       "      <td>Mkt&amp;HR</td>\n",
       "      <td>59.43</td>\n",
       "      <td>Not Placed</td>\n",
       "    </tr>\n",
       "    <tr>\n",
       "      <th>4</th>\n",
       "      <td>M</td>\n",
       "      <td>85.80</td>\n",
       "      <td>Central</td>\n",
       "      <td>73.60</td>\n",
       "      <td>Central</td>\n",
       "      <td>Commerce</td>\n",
       "      <td>73.30</td>\n",
       "      <td>Comm&amp;Mgmt</td>\n",
       "      <td>No</td>\n",
       "      <td>96.8</td>\n",
       "      <td>Mkt&amp;Fin</td>\n",
       "      <td>55.50</td>\n",
       "      <td>Placed</td>\n",
       "    </tr>\n",
       "  </tbody>\n",
       "</table>\n",
       "</div>"
      ],
      "text/plain": [
       "  gender  ssc_percentage ssc_board  hsc_percentage hsc_board hsc_subject  \\\n",
       "0      M           67.00    Others           91.00    Others    Commerce   \n",
       "1      M           79.33   Central           78.33    Others     Science   \n",
       "2      M           65.00   Central           68.00   Central        Arts   \n",
       "3      M           56.00   Central           52.00   Central     Science   \n",
       "4      M           85.80   Central           73.60   Central    Commerce   \n",
       "\n",
       "   degree_percentage undergrad_degree work_experience  emp_test_percentage  \\\n",
       "0              58.00         Sci&Tech              No                 55.0   \n",
       "1              77.48         Sci&Tech             Yes                 86.5   \n",
       "2              64.00        Comm&Mgmt              No                 75.0   \n",
       "3              52.00         Sci&Tech              No                 66.0   \n",
       "4              73.30        Comm&Mgmt              No                 96.8   \n",
       "\n",
       "  specialisation  mba_percent      status  \n",
       "0         Mkt&HR        58.80      Placed  \n",
       "1        Mkt&Fin        66.28      Placed  \n",
       "2        Mkt&Fin        57.80      Placed  \n",
       "3         Mkt&HR        59.43  Not Placed  \n",
       "4        Mkt&Fin        55.50      Placed  "
      ]
     },
     "execution_count": 1,
     "metadata": {},
     "output_type": "execute_result"
    }
   ],
   "source": [
    "import pandas as pd\n",
    "import numpy as np\n",
    "import seaborn as sns\n",
    "import matplotlib.pyplot as plt\n",
    "\n",
    "data= pd.read_csv('Job_Placement_Data.csv')\n",
    "data.head()"
   ]
  },
  {
   "cell_type": "markdown",
   "metadata": {},
   "source": [
    "#### Data Understanding"
   ]
  },
  {
   "cell_type": "markdown",
   "metadata": {},
   "source": [
    "### column description\n",
    "ssc_percentage = Senior secondary exams percentage (10th Grade)\n",
    "\n",
    "ssc_board = Board of education for ssc exams \n",
    "\n",
    "hsc_percentage = Higher secondary exams percentage (12th Grade)\n",
    "\n",
    "hsc_board = Board of education for hsc exams\n",
    "\n",
    "hsc_subject = Subject of study for hsc\n",
    "\n",
    "degree_percentage = Percentage of marks in undergrad degree\n",
    "\n",
    "undergrad_degree = Undergrad degree majors\n",
    "\n",
    "work_experience = Past work experience\n",
    "\n",
    "emp_test_percentage = Aptitude test percentage"
   ]
  },
  {
   "cell_type": "code",
   "execution_count": 2,
   "metadata": {},
   "outputs": [
    {
     "name": "stdout",
     "output_type": "stream",
     "text": [
      "<class 'pandas.core.frame.DataFrame'>\n",
      "RangeIndex: 215 entries, 0 to 214\n",
      "Data columns (total 13 columns):\n",
      " #   Column               Non-Null Count  Dtype  \n",
      "---  ------               --------------  -----  \n",
      " 0   gender               215 non-null    object \n",
      " 1   ssc_percentage       215 non-null    float64\n",
      " 2   ssc_board            215 non-null    object \n",
      " 3   hsc_percentage       215 non-null    float64\n",
      " 4   hsc_board            215 non-null    object \n",
      " 5   hsc_subject          215 non-null    object \n",
      " 6   degree_percentage    215 non-null    float64\n",
      " 7   undergrad_degree     215 non-null    object \n",
      " 8   work_experience      215 non-null    object \n",
      " 9   emp_test_percentage  215 non-null    float64\n",
      " 10  specialisation       215 non-null    object \n",
      " 11  mba_percent          215 non-null    float64\n",
      " 12  status               215 non-null    object \n",
      "dtypes: float64(5), object(8)\n",
      "memory usage: 22.0+ KB\n"
     ]
    }
   ],
   "source": [
    "data.info()"
   ]
  },
  {
   "cell_type": "code",
   "execution_count": 3,
   "metadata": {},
   "outputs": [
    {
     "data": {
      "text/plain": [
       "(215, 13)"
      ]
     },
     "execution_count": 3,
     "metadata": {},
     "output_type": "execute_result"
    }
   ],
   "source": [
    "data.shape"
   ]
  },
  {
   "cell_type": "code",
   "execution_count": 4,
   "metadata": {},
   "outputs": [
    {
     "data": {
      "text/plain": [
       "0"
      ]
     },
     "execution_count": 4,
     "metadata": {},
     "output_type": "execute_result"
    }
   ],
   "source": [
    "data.duplicated().sum()"
   ]
  },
  {
   "cell_type": "markdown",
   "metadata": {},
   "source": [
    "### EDA"
   ]
  },
  {
   "cell_type": "code",
   "execution_count": 5,
   "metadata": {},
   "outputs": [
    {
     "data": {
      "text/plain": [
       "<matplotlib.axes._subplots.AxesSubplot at 0xc3b6eec080>"
      ]
     },
     "execution_count": 5,
     "metadata": {},
     "output_type": "execute_result"
    },
    {
     "data": {
      "image/png": "[encoded data removed]",
      "text/plain": [
       "<Figure size 432x288 with 1 Axes>"
      ]
     },
     "metadata": {
      "needs_background": "light"
     },
     "output_type": "display_data"
    }
   ],
   "source": [
    "sns.countplot(data['gender'])"
   ]
  },
  {
   "cell_type": "code",
   "execution_count": 6,
   "metadata": {},
   "outputs": [
    {
     "data": {
      "text/plain": [
       "<matplotlib.axes._subplots.AxesSubplot at 0xc3b8f7fb70>"
      ]
     },
     "execution_count": 6,
     "metadata": {},
     "output_type": "execute_result"
    },
    {
     "data": {
      "image/png": "[encoded data removed]",
      "text/plain": [
       "<Figure size 432x288 with 1 Axes>"
      ]
     },
     "metadata": {
      "needs_background": "light"
     },
     "output_type": "display_data"
    }
   ],
   "source": [
    "sns.countplot(data['work_experience'])"
   ]
  },
  {
   "cell_type": "code",
   "execution_count": 7,
   "metadata": {},
   "outputs": [
    {
     "data": {
      "text/plain": [
       "<matplotlib.axes._subplots.AxesSubplot at 0xc3b8fd4dd8>"
      ]
     },
     "execution_count": 7,
     "metadata": {},
     "output_type": "execute_result"
    },
    {
     "data": {
      "image/png": "[encoded data removed]",
      "text/plain": [
       "<Figure size 432x288 with 1 Axes>"
      ]
     },
     "metadata": {
      "needs_background": "light"
     },
     "output_type": "display_data"
    }
   ],
   "source": [
    "sns.countplot(data=data, x=\"gender\", hue=\"work_experience\")"
   ]
  },
  {
   "cell_type": "code",
   "execution_count": 8,
   "metadata": {},
   "outputs": [
    {
     "data": {
      "text/plain": [
       "<matplotlib.axes._subplots.AxesSubplot at 0xc3b8f75518>"
      ]
     },
     "execution_count": 8,
     "metadata": {},
     "output_type": "execute_result"
    },
    {
     "data": {
      "image/png": "[encoded data removed]",
      "text/plain": [
       "<Figure size 432x288 with 1 Axes>"
      ]
     },
     "metadata": {
      "needs_background": "light"
     },
     "output_type": "display_data"
    }
   ],
   "source": [
    "sns.countplot(data=data, x=\"status\", hue=\"work_experience\")"
   ]
  },
  {
   "cell_type": "code",
   "execution_count": 9,
   "metadata": {},
   "outputs": [
    {
     "data": {
      "text/plain": [
       "<matplotlib.axes._subplots.AxesSubplot at 0xc3b9481208>"
      ]
     },
     "execution_count": 9,
     "metadata": {},
     "output_type": "execute_result"
    },
    {
     "data": {
      "image/png": "[encoded data removed]",
      "text/plain": [
       "<Figure size 432x288 with 1 Axes>"
      ]
     },
     "metadata": {
      "needs_background": "light"
     },
     "output_type": "display_data"
    }
   ],
   "source": [
    "sns.countplot(data=data, x=\"status\", hue=\"specialisation\")"
   ]
  },
  {
   "cell_type": "code",
   "execution_count": 10,
   "metadata": {},
   "outputs": [
    {
     "data": {
      "text/plain": [
       "gender                 0\n",
       "ssc_percentage         0\n",
       "ssc_board              0\n",
       "hsc_percentage         0\n",
       "hsc_board              0\n",
       "hsc_subject            0\n",
       "degree_percentage      0\n",
       "undergrad_degree       0\n",
       "work_experience        0\n",
       "emp_test_percentage    0\n",
       "specialisation         0\n",
       "mba_percent            0\n",
       "status                 0\n",
       "dtype: int64"
      ]
     },
     "execution_count": 10,
     "metadata": {},
     "output_type": "execute_result"
    }
   ],
   "source": [
    "data.isnull().sum()"
   ]
  },
  {
   "cell_type": "code",
   "execution_count": 11,
   "metadata": {},
   "outputs": [
    {
     "data": {
      "text/plain": [
       "<matplotlib.axes._subplots.AxesSubplot at 0xc3b94dd940>"
      ]
     },
     "execution_count": 11,
     "metadata": {},
     "output_type": "execute_result"
    },
    {
     "data": {
      "image/png": "[encoded data removed]",
      "text/plain": [
       "<Figure size 432x288 with 2 Axes>"
      ]
     },
     "metadata": {
      "needs_background": "light"
     },
     "output_type": "display_data"
    }
   ],
   "source": [
    "sns.heatmap(data.corr(),annot=True)"
   ]
  },
  {
   "cell_type": "code",
   "execution_count": 12,
   "metadata": {},
   "outputs": [
    {
     "data": {
      "text/plain": [
       "<matplotlib.axes._subplots.AxesSubplot at 0xc3b957e748>"
      ]
     },
     "execution_count": 12,
     "metadata": {},
     "output_type": "execute_result"
    },
    {
     "data": {
      "image/png": "[encoded data removed]",
      "text/plain": [
       "<Figure size 432x288 with 1 Axes>"
      ]
     },
     "metadata": {
      "needs_background": "light"
     },
     "output_type": "display_data"
    }
   ],
   "source": [
    "sns.countplot(data['undergrad_degree'])"
   ]
  },
  {
   "cell_type": "code",
   "execution_count": 13,
   "metadata": {},
   "outputs": [
    {
     "data": {
      "text/plain": [
       "<matplotlib.axes._subplots.AxesSubplot at 0xc3b95ff780>"
      ]
     },
     "execution_count": 13,
     "metadata": {},
     "output_type": "execute_result"
    },
    {
     "data": {
      "image/png": "[encoded data removed]",
      "text/plain": [
       "<Figure size 432x288 with 1 Axes>"
      ]
     },
     "metadata": {
      "needs_background": "light"
     },
     "output_type": "display_data"
    }
   ],
   "source": [
    "sns.countplot(data['hsc_subject'])"
   ]
  },
  {
   "cell_type": "code",
   "execution_count": 14,
   "metadata": {},
   "outputs": [
    {
     "data": {
      "text/plain": [
       "<matplotlib.axes._subplots.AxesSubplot at 0xc3b9481f98>"
      ]
     },
     "execution_count": 14,
     "metadata": {},
     "output_type": "execute_result"
    },
    {
     "data": {
      "image/png": "[encoded data removed]",
      "text/plain": [
       "<Figure size 432x288 with 1 Axes>"
      ]
     },
     "metadata": {
      "needs_background": "light"
     },
     "output_type": "display_data"
    }
   ],
   "source": [
    "sns.countplot(data=data, x=\"status\", hue=\"emp_test_percentage\")"
   ]
  },
  {
   "cell_type": "code",
   "execution_count": 15,
   "metadata": {},
   "outputs": [
    {
     "name": "stderr",
     "output_type": "stream",
     "text": [
      "C:\\Users\\Honour Jesus\\Anaconda3\\lib\\site-packages\\scipy\\stats\\stats.py:1713: FutureWarning: Using a non-tuple sequence for multidimensional indexing is deprecated; use `arr[tuple(seq)]` instead of `arr[seq]`. In the future this will be interpreted as an array index, `arr[np.array(seq)]`, which will result either in an error or a different result.\n",
      "  return np.add.reduce(sorted[indexer] * weights, axis=axis) / sumval\n"
     ]
    },
    {
     "data": {
      "text/plain": [
       "<matplotlib.axes._subplots.AxesSubplot at 0xc3b97c0588>"
      ]
     },
     "execution_count": 15,
     "metadata": {},
     "output_type": "execute_result"
    },
    {
     "data": {
      "image/png": "[encoded data removed]",
      "text/plain": [
       "<Figure size 432x288 with 1 Axes>"
      ]
     },
     "metadata": {
      "needs_background": "light"
     },
     "output_type": "display_data"
    }
   ],
   "source": [
    "data.groupby('status', as_index=False)['emp_test_percentage'].mean()\n",
    "sns.barplot('status', 'emp_test_percentage', data=data, ci=False)"
   ]
  },
  {
   "cell_type": "code",
   "execution_count": 16,
   "metadata": {},
   "outputs": [
    {
     "name": "stderr",
     "output_type": "stream",
     "text": [
      "C:\\Users\\Honour Jesus\\Anaconda3\\lib\\site-packages\\scipy\\stats\\stats.py:1713: FutureWarning: Using a non-tuple sequence for multidimensional indexing is deprecated; use `arr[tuple(seq)]` instead of `arr[seq]`. In the future this will be interpreted as an array index, `arr[np.array(seq)]`, which will result either in an error or a different result.\n",
      "  return np.add.reduce(sorted[indexer] * weights, axis=axis) / sumval\n"
     ]
    },
    {
     "data": {
      "text/plain": [
       "<matplotlib.axes._subplots.AxesSubplot at 0xc3ba2c2518>"
      ]
     },
     "execution_count": 16,
     "metadata": {},
     "output_type": "execute_result"
    },
    {
     "data": {
      "image/png": "[encoded data removed]",
      "text/plain": [
       "<Figure size 432x288 with 1 Axes>"
      ]
     },
     "metadata": {
      "needs_background": "light"
     },
     "output_type": "display_data"
    }
   ],
   "source": [
    "data.groupby('emp_test_percentage', as_index=False)['degree_percentage'].mean()\n",
    "sns.barplot('emp_test_percentage', 'degree_percentage', data=data, ci=False)"
   ]
  },
  {
   "cell_type": "code",
   "execution_count": 17,
   "metadata": {},
   "outputs": [
    {
     "data": {
      "text/plain": [
       "Others     131\n",
       "Central     84\n",
       "Name: hsc_board, dtype: int64"
      ]
     },
     "execution_count": 17,
     "metadata": {},
     "output_type": "execute_result"
    }
   ],
   "source": [
    "data['hsc_board'].value_counts()"
   ]
  },
  {
   "cell_type": "code",
   "execution_count": 18,
   "metadata": {},
   "outputs": [],
   "source": [
    "data.drop(['ssc_percentage','ssc_board','hsc_percentage','hsc_board','hsc_subject',], axis=1,inplace=True)"
   ]
  },
  {
   "cell_type": "code",
   "execution_count": 19,
   "metadata": {},
   "outputs": [
    {
     "data": {
      "text/plain": [
       "<matplotlib.axes._subplots.AxesSubplot at 0xc3ba66e048>"
      ]
     },
     "execution_count": 19,
     "metadata": {},
     "output_type": "execute_result"
    },
    {
     "data": {
      "image/png": "[encoded data removed]",
      "text/plain": [
       "<Figure size 432x288 with 1 Axes>"
      ]
     },
     "metadata": {
      "needs_background": "light"
     },
     "output_type": "display_data"
    }
   ],
   "source": [
    "df = pd.DataFrame(data = data, columns = ['gender', 'degree_percentage', 'undergrad_degree', 'work_experience','emp_test_percentage', 'specialisation', 'mba_percent', 'status'])\n",
    "df.boxplot()"
   ]
  },
  {
   "cell_type": "code",
   "execution_count": 20,
   "metadata": {},
   "outputs": [
    {
     "data": {
      "text/plain": [
       "Index(['gender', 'degree_percentage', 'undergrad_degree', 'work_experience',\n",
       "       'emp_test_percentage', 'specialisation', 'mba_percent', 'status'],\n",
       "      dtype='object')"
      ]
     },
     "execution_count": 20,
     "metadata": {},
     "output_type": "execute_result"
    }
   ],
   "source": [
    "data.columns"
   ]
  },
  {
   "cell_type": "code",
   "execution_count": 21,
   "metadata": {},
   "outputs": [
    {
     "data": {
      "text/plain": [
       "Index(['degree_percentage', 'emp_test_percentage', 'mba_percent'], dtype='object')"
      ]
     },
     "execution_count": 21,
     "metadata": {},
     "output_type": "execute_result"
    }
   ],
   "source": [
    "data._get_numeric_data().columns"
   ]
  },
  {
   "cell_type": "markdown",
   "metadata": {},
   "source": [
    "#### i will be classifying those that got jobs based on undergrad_degree, work_ experience, emp_test_percentage,specialisation,gender,degree+percentage,mba_percent,and maybe subject"
   ]
  },
  {
   "cell_type": "markdown",
   "metadata": {},
   "source": []
  },
  {
   "cell_type": "code",
   "execution_count": 22,
   "metadata": {},
   "outputs": [],
   "source": [
    "from sklearn.preprocessing import LabelEncoder\n",
    "le= LabelEncoder()\n",
    "\n",
    "data['undergrad_degree'] = le.fit_transform(data['undergrad_degree'])\n",
    "data['work_experience'] = le.fit_transform(data['work_experience'])\n",
    "data['specialisation'] = le.fit_transform(data['specialisation'])\n",
    "data['gender'] = le.fit_transform(data['gender'])\n",
    "data['status'] = le.fit_transform(data['status'])"
   ]
  },
  {
   "cell_type": "markdown",
   "metadata": {},
   "source": [
    "pd.get_dummies(data,columns=['undergrad_degree','work_experience','specialisation','gender','status'],drop_first=True)"
   ]
  },
  {
   "cell_type": "code",
   "execution_count": 23,
   "metadata": {},
   "outputs": [
    {
     "data": {
      "image/png": "[encoded data removed]",
      "text/plain": [
       "<Figure size 432x288 with 1 Axes>"
      ]
     },
     "metadata": {
      "needs_background": "light"
     },
     "output_type": "display_data"
    },
    {
     "data": {
      "image/png": "[encoded data removed]",
      "text/plain": [
       "<Figure size 432x288 with 1 Axes>"
      ]
     },
     "metadata": {
      "needs_background": "light"
     },
     "output_type": "display_data"
    },
    {
     "data": {
      "image/png": "[encoded data removed]",
      "text/plain": [
       "<Figure size 432x288 with 1 Axes>"
      ]
     },
     "metadata": {
      "needs_background": "light"
     },
     "output_type": "display_data"
    }
   ],
   "source": [
    "int_col=['degree_percentage', 'emp_test_percentage', 'mba_percent']\n",
    "for i in int_col:\n",
    "    plt.figure()\n",
    "    plt.boxplot(data[i])"
   ]
  },
  {
   "cell_type": "code",
   "execution_count": 24,
   "metadata": {},
   "outputs": [
    {
     "data": {
      "text/plain": [
       "<matplotlib.axes._subplots.AxesSubplot at 0xc3ba92d208>"
      ]
     },
     "execution_count": 24,
     "metadata": {},
     "output_type": "execute_result"
    },
    {
     "data": {
      "image/png": "[encoded data removed]",
      "text/plain": [
       "<Figure size 432x288 with 2 Axes>"
      ]
     },
     "metadata": {
      "needs_background": "light"
     },
     "output_type": "display_data"
    }
   ],
   "source": [
    "sns.heatmap(data.corr(),annot=True)#corr is from-1to +1"
   ]
  },
  {
   "cell_type": "code",
   "execution_count": 28,
   "metadata": {},
   "outputs": [
    {
     "name": "stderr",
     "output_type": "stream",
     "text": [
      "C:\\Users\\Honour Jesus\\Anaconda3\\lib\\site-packages\\scipy\\stats\\stats.py:1713: FutureWarning: Using a non-tuple sequence for multidimensional indexing is deprecated; use `arr[tuple(seq)]` instead of `arr[seq]`. In the future this will be interpreted as an array index, `arr[np.array(seq)]`, which will result either in an error or a different result.\n",
      "  return np.add.reduce(sorted[indexer] * weights, axis=axis) / sumval\n"
     ]
    },
    {
     "data": {
      "text/plain": [
       "(0, 93.0651766004415)"
      ]
     },
     "execution_count": 28,
     "metadata": {},
     "output_type": "execute_result"
    },
    {
     "data": {
      "image/png": "[encoded data removed]",
      "text/plain": [
       "<Figure size 432x288 with 1 Axes>"
      ]
     },
     "metadata": {
      "needs_background": "light"
     },
     "output_type": "display_data"
    }
   ],
   "source": [
    "sns.regplot(x=\"gender\", y='degree_percentage', color=\"red\", data=data)\n",
    "plt.ylim(0,)"
   ]
  },
  {
   "cell_type": "code",
   "execution_count": 29,
   "metadata": {},
   "outputs": [
    {
     "name": "stderr",
     "output_type": "stream",
     "text": [
      "C:\\Users\\Honour Jesus\\Anaconda3\\lib\\site-packages\\scipy\\stats\\stats.py:1713: FutureWarning: Using a non-tuple sequence for multidimensional indexing is deprecated; use `arr[tuple(seq)]` instead of `arr[seq]`. In the future this will be interpreted as an array index, `arr[np.array(seq)]`, which will result either in an error or a different result.\n",
      "  return np.add.reduce(sorted[indexer] * weights, axis=axis) / sumval\n"
     ]
    },
    {
     "data": {
      "text/plain": [
       "(0, 93.0651766004415)"
      ]
     },
     "execution_count": 29,
     "metadata": {},
     "output_type": "execute_result"
    },
    {
     "data": {
      "image/png": "[encoded data removed]",
      "text/plain": [
       "<Figure size 432x288 with 1 Axes>"
      ]
     },
     "metadata": {
      "needs_background": "light"
     },
     "output_type": "display_data"
    }
   ],
   "source": [
    "sns.regplot(x=\"status\", y='degree_percentage', color=\"red\", data=data)\n",
    "plt.ylim(0,)"
   ]
  },
  {
   "cell_type": "code",
   "execution_count": 30,
   "metadata": {},
   "outputs": [
    {
     "name": "stderr",
     "output_type": "stream",
     "text": [
      "C:\\Users\\Honour Jesus\\Anaconda3\\lib\\site-packages\\scipy\\stats\\stats.py:1713: FutureWarning: Using a non-tuple sequence for multidimensional indexing is deprecated; use `arr[tuple(seq)]` instead of `arr[seq]`. In the future this will be interpreted as an array index, `arr[np.array(seq)]`, which will result either in an error or a different result.\n",
      "  return np.add.reduce(sorted[indexer] * weights, axis=axis) / sumval\n"
     ]
    },
    {
     "data": {
      "text/plain": [
       "(0, 1.1158422939068113)"
      ]
     },
     "execution_count": 30,
     "metadata": {},
     "output_type": "execute_result"
    },
    {
     "data": {
      "image/png": "[encoded data removed]",
      "text/plain": [
       "<Figure size 432x288 with 1 Axes>"
      ]
     },
     "metadata": {
      "needs_background": "light"
     },
     "output_type": "display_data"
    }
   ],
   "source": [
    "sns.regplot(x=\"status\", y='status', color=\"red\", data=data)\n",
    "plt.ylim(0,)"
   ]
  },
  {
   "cell_type": "code",
   "execution_count": 40,
   "metadata": {},
   "outputs": [
    {
     "ename": "ValueError",
     "evalue": "`bins` must increase monotonically, when an array",
     "output_type": "error",
     "traceback": [
      "\u001b[1;31m---------------------------------------------------------------------------\u001b[0m",
      "\u001b[1;31mValueError\u001b[0m                                Traceback (most recent call last)",
      "\u001b[1;32m<ipython-input-40-775318163bbf>\u001b[0m in \u001b[0;36m<module>\u001b[1;34m()\u001b[0m\n\u001b[0;32m      1\u001b[0m \u001b[1;31m#to check if our graph looks like a normal distribution\u001b[0m\u001b[1;33m\u001b[0m\u001b[1;33m\u001b[0m\u001b[0m\n\u001b[1;32m----> 2\u001b[1;33m \u001b[0msns\u001b[0m\u001b[1;33m.\u001b[0m\u001b[0mdistplot\u001b[0m\u001b[1;33m(\u001b[0m\u001b[0my_test\u001b[0m\u001b[1;33m,\u001b[0m\u001b[0mgrid_pred\u001b[0m\u001b[1;33m)\u001b[0m\u001b[1;33m\u001b[0m\u001b[0m\n\u001b[0m",
      "\u001b[1;32m~\\Anaconda3\\lib\\site-packages\\seaborn\\distributions.py\u001b[0m in \u001b[0;36mdistplot\u001b[1;34m(a, bins, hist, kde, rug, fit, hist_kws, kde_kws, rug_kws, fit_kws, color, vertical, norm_hist, axlabel, label, ax)\u001b[0m\n\u001b[0;32m    223\u001b[0m         \u001b[0mhist_color\u001b[0m \u001b[1;33m=\u001b[0m \u001b[0mhist_kws\u001b[0m\u001b[1;33m.\u001b[0m\u001b[0mpop\u001b[0m\u001b[1;33m(\u001b[0m\u001b[1;34m\"color\"\u001b[0m\u001b[1;33m,\u001b[0m \u001b[0mcolor\u001b[0m\u001b[1;33m)\u001b[0m\u001b[1;33m\u001b[0m\u001b[0m\n\u001b[0;32m    224\u001b[0m         ax.hist(a, bins, orientation=orientation,\n\u001b[1;32m--> 225\u001b[1;33m                 color=hist_color, **hist_kws)\n\u001b[0m\u001b[0;32m    226\u001b[0m         \u001b[1;32mif\u001b[0m \u001b[0mhist_color\u001b[0m \u001b[1;33m!=\u001b[0m \u001b[0mcolor\u001b[0m\u001b[1;33m:\u001b[0m\u001b[1;33m\u001b[0m\u001b[0m\n\u001b[0;32m    227\u001b[0m             \u001b[0mhist_kws\u001b[0m\u001b[1;33m[\u001b[0m\u001b[1;34m\"color\"\u001b[0m\u001b[1;33m]\u001b[0m \u001b[1;33m=\u001b[0m \u001b[0mhist_color\u001b[0m\u001b[1;33m\u001b[0m\u001b[0m\n",
      "\u001b[1;32m~\\Anaconda3\\lib\\site-packages\\matplotlib\\__init__.py\u001b[0m in \u001b[0;36minner\u001b[1;34m(ax, *args, **kwargs)\u001b[0m\n\u001b[0;32m   1865\u001b[0m                         \u001b[1;34m\"the Matplotlib list!)\"\u001b[0m \u001b[1;33m%\u001b[0m \u001b[1;33m(\u001b[0m\u001b[0mlabel_namer\u001b[0m\u001b[1;33m,\u001b[0m \u001b[0mfunc\u001b[0m\u001b[1;33m.\u001b[0m\u001b[0m__name__\u001b[0m\u001b[1;33m)\u001b[0m\u001b[1;33m,\u001b[0m\u001b[1;33m\u001b[0m\u001b[0m\n\u001b[0;32m   1866\u001b[0m                         RuntimeWarning, stacklevel=2)\n\u001b[1;32m-> 1867\u001b[1;33m             \u001b[1;32mreturn\u001b[0m \u001b[0mfunc\u001b[0m\u001b[1;33m(\u001b[0m\u001b[0max\u001b[0m\u001b[1;33m,\u001b[0m \u001b[1;33m*\u001b[0m\u001b[0margs\u001b[0m\u001b[1;33m,\u001b[0m \u001b[1;33m**\u001b[0m\u001b[0mkwargs\u001b[0m\u001b[1;33m)\u001b[0m\u001b[1;33m\u001b[0m\u001b[0m\n\u001b[0m\u001b[0;32m   1868\u001b[0m \u001b[1;33m\u001b[0m\u001b[0m\n\u001b[0;32m   1869\u001b[0m         inner.__doc__ = _add_data_doc(inner.__doc__,\n",
      "\u001b[1;32m~\\Anaconda3\\lib\\site-packages\\matplotlib\\axes\\_axes.py\u001b[0m in \u001b[0;36mhist\u001b[1;34m(***failed resolving arguments***)\u001b[0m\n\u001b[0;32m   6637\u001b[0m             \u001b[1;31m# this will automatically overwrite bins,\u001b[0m\u001b[1;33m\u001b[0m\u001b[1;33m\u001b[0m\u001b[0m\n\u001b[0;32m   6638\u001b[0m             \u001b[1;31m# so that each histogram uses the same bins\u001b[0m\u001b[1;33m\u001b[0m\u001b[1;33m\u001b[0m\u001b[0m\n\u001b[1;32m-> 6639\u001b[1;33m             \u001b[0mm\u001b[0m\u001b[1;33m,\u001b[0m \u001b[0mbins\u001b[0m \u001b[1;33m=\u001b[0m \u001b[0mnp\u001b[0m\u001b[1;33m.\u001b[0m\u001b[0mhistogram\u001b[0m\u001b[1;33m(\u001b[0m\u001b[0mx\u001b[0m\u001b[1;33m[\u001b[0m\u001b[0mi\u001b[0m\u001b[1;33m]\u001b[0m\u001b[1;33m,\u001b[0m \u001b[0mbins\u001b[0m\u001b[1;33m,\u001b[0m \u001b[0mweights\u001b[0m\u001b[1;33m=\u001b[0m\u001b[0mw\u001b[0m\u001b[1;33m[\u001b[0m\u001b[0mi\u001b[0m\u001b[1;33m]\u001b[0m\u001b[1;33m,\u001b[0m \u001b[1;33m**\u001b[0m\u001b[0mhist_kwargs\u001b[0m\u001b[1;33m)\u001b[0m\u001b[1;33m\u001b[0m\u001b[0m\n\u001b[0m\u001b[0;32m   6640\u001b[0m             \u001b[0mm\u001b[0m \u001b[1;33m=\u001b[0m \u001b[0mm\u001b[0m\u001b[1;33m.\u001b[0m\u001b[0mastype\u001b[0m\u001b[1;33m(\u001b[0m\u001b[0mfloat\u001b[0m\u001b[1;33m)\u001b[0m  \u001b[1;31m# causes problems later if it's an int\u001b[0m\u001b[1;33m\u001b[0m\u001b[0m\n\u001b[0;32m   6641\u001b[0m             \u001b[1;32mif\u001b[0m \u001b[0mmlast\u001b[0m \u001b[1;32mis\u001b[0m \u001b[1;32mNone\u001b[0m\u001b[1;33m:\u001b[0m\u001b[1;33m\u001b[0m\u001b[0m\n",
      "\u001b[1;32m<__array_function__ internals>\u001b[0m in \u001b[0;36mhistogram\u001b[1;34m(*args, **kwargs)\u001b[0m\n",
      "\u001b[1;32m~\\Anaconda3\\lib\\site-packages\\numpy\\lib\\histograms.py\u001b[0m in \u001b[0;36mhistogram\u001b[1;34m(a, bins, range, normed, weights, density)\u001b[0m\n\u001b[0;32m    791\u001b[0m     \u001b[0ma\u001b[0m\u001b[1;33m,\u001b[0m \u001b[0mweights\u001b[0m \u001b[1;33m=\u001b[0m \u001b[0m_ravel_and_check_weights\u001b[0m\u001b[1;33m(\u001b[0m\u001b[0ma\u001b[0m\u001b[1;33m,\u001b[0m \u001b[0mweights\u001b[0m\u001b[1;33m)\u001b[0m\u001b[1;33m\u001b[0m\u001b[0m\n\u001b[0;32m    792\u001b[0m \u001b[1;33m\u001b[0m\u001b[0m\n\u001b[1;32m--> 793\u001b[1;33m     \u001b[0mbin_edges\u001b[0m\u001b[1;33m,\u001b[0m \u001b[0muniform_bins\u001b[0m \u001b[1;33m=\u001b[0m \u001b[0m_get_bin_edges\u001b[0m\u001b[1;33m(\u001b[0m\u001b[0ma\u001b[0m\u001b[1;33m,\u001b[0m \u001b[0mbins\u001b[0m\u001b[1;33m,\u001b[0m \u001b[0mrange\u001b[0m\u001b[1;33m,\u001b[0m \u001b[0mweights\u001b[0m\u001b[1;33m)\u001b[0m\u001b[1;33m\u001b[0m\u001b[0m\n\u001b[0m\u001b[0;32m    794\u001b[0m \u001b[1;33m\u001b[0m\u001b[0m\n\u001b[0;32m    795\u001b[0m     \u001b[1;31m# Histogram is an integer or a float array depending on the weights.\u001b[0m\u001b[1;33m\u001b[0m\u001b[1;33m\u001b[0m\u001b[0m\n",
      "\u001b[1;32m~\\Anaconda3\\lib\\site-packages\\numpy\\lib\\histograms.py\u001b[0m in \u001b[0;36m_get_bin_edges\u001b[1;34m(a, bins, range, weights)\u001b[0m\n\u001b[0;32m    430\u001b[0m         \u001b[1;32mif\u001b[0m \u001b[0mnp\u001b[0m\u001b[1;33m.\u001b[0m\u001b[0many\u001b[0m\u001b[1;33m(\u001b[0m\u001b[0mbin_edges\u001b[0m\u001b[1;33m[\u001b[0m\u001b[1;33m:\u001b[0m\u001b[1;33m-\u001b[0m\u001b[1;36m1\u001b[0m\u001b[1;33m]\u001b[0m \u001b[1;33m>\u001b[0m \u001b[0mbin_edges\u001b[0m\u001b[1;33m[\u001b[0m\u001b[1;36m1\u001b[0m\u001b[1;33m:\u001b[0m\u001b[1;33m]\u001b[0m\u001b[1;33m)\u001b[0m\u001b[1;33m:\u001b[0m\u001b[1;33m\u001b[0m\u001b[0m\n\u001b[0;32m    431\u001b[0m             raise ValueError(\n\u001b[1;32m--> 432\u001b[1;33m                 '`bins` must increase monotonically, when an array')\n\u001b[0m\u001b[0;32m    433\u001b[0m \u001b[1;33m\u001b[0m\u001b[0m\n\u001b[0;32m    434\u001b[0m     \u001b[1;32melse\u001b[0m\u001b[1;33m:\u001b[0m\u001b[1;33m\u001b[0m\u001b[0m\n",
      "\u001b[1;31mValueError\u001b[0m: `bins` must increase monotonically, when an array"
     ]
    },
    {
     "data": {
      "image/png": "[encoded data removed]",
      "text/plain": [
       "<Figure size 432x288 with 1 Axes>"
      ]
     },
     "metadata": {
      "needs_background": "light"
     },
     "output_type": "display_data"
    }
   ],
   "source": [
    "#to check if our graph looks like a normal distribution\n",
    "sns.distplot(y_test-grid_pred)"
   ]
  },
  {
   "cell_type": "code",
   "execution_count": 31,
   "metadata": {},
   "outputs": [
    {
     "ename": "IndentationError",
     "evalue": "unexpected indent (<ipython-input-31-87566b564aa4>, line 4)",
     "output_type": "error",
     "traceback": [
      "\u001b[1;36m  File \u001b[1;32m\"<ipython-input-31-87566b564aa4>\"\u001b[1;36m, line \u001b[1;32m4\u001b[0m\n\u001b[1;33m    \"\"\"data is scaled when:So if the data in any conditions has data points far from each other,\u001b[0m\n\u001b[1;37m    ^\u001b[0m\n\u001b[1;31mIndentationError\u001b[0m\u001b[1;31m:\u001b[0m unexpected indent\n"
     ]
    }
   ],
   "source": [
    "#object cannot have outlier nor correlation,so if you change it to dummy you cant get correlation\n",
    "'''the data correlated is between staus and degree percentage,mba_percent and degree_percentage,work_experience and status,\n",
    "emp_test and degree_percentage,emp_test_percentage and degree_percentage'''\n",
    " \"\"\"data is scaled when:So if the data in any conditions has data points far from each other, \n",
    "scaling is a technique to make them closer to each other or in simpler words, we can say\n",
    "that the scaling is used for making data points generalized so that the distance between them will be lower.\"\"\""
   ]
  },
  {
   "cell_type": "code",
   "execution_count": 32,
   "metadata": {},
   "outputs": [],
   "source": [
    "from sklearn.model_selection import train_test_split\n",
    "x=data.drop(['status'],axis=1)\n",
    "y= data['status']\n",
    "x_train,x_test,y_train,y_test=train_test_split(x,y,test_size=0.3,random_state=11)"
   ]
  },
  {
   "cell_type": "code",
   "execution_count": 33,
   "metadata": {},
   "outputs": [],
   "source": [
    "from sklearn.svm import SVC\n",
    "from sklearn import metrics\n",
    "from sklearn.neighbors import KNeighborsClassifier as knc\n",
    "from sklearn.metrics import classification_report,confusion_matrix,accuracy_score,recall_score,precision_score\n",
    "svc= SVC()\n",
    "svc.fit(x_train,y_train)\n",
    "y_pred = svc.predict(x_test)"
   ]
  },
  {
   "cell_type": "code",
   "execution_count": 34,
   "metadata": {},
   "outputs": [
    {
     "name": "stdout",
     "output_type": "stream",
     "text": [
      "Accuracy score: 0.5846153846153846\n"
     ]
    }
   ],
   "source": [
    "print(f'Accuracy score: {metrics.accuracy_score(y_test,y_pred)}')"
   ]
  },
  {
   "cell_type": "code",
   "execution_count": 35,
   "metadata": {},
   "outputs": [
    {
     "name": "stdout",
     "output_type": "stream",
     "text": [
      "[[ 0 27]\n",
      " [ 0 38]]\n",
      "              precision    recall  f1-score   support\n",
      "\n",
      "           0       0.00      0.00      0.00        27\n",
      "           1       0.58      1.00      0.74        38\n",
      "\n",
      "    accuracy                           0.58        65\n",
      "   macro avg       0.29      0.50      0.37        65\n",
      "weighted avg       0.34      0.58      0.43        65\n",
      "\n"
     ]
    },
    {
     "name": "stderr",
     "output_type": "stream",
     "text": [
      "C:\\Users\\Honour Jesus\\Anaconda3\\lib\\site-packages\\sklearn\\metrics\\_classification.py:1318: UndefinedMetricWarning: Precision and F-score are ill-defined and being set to 0.0 in labels with no predicted samples. Use `zero_division` parameter to control this behavior.\n",
      "  _warn_prf(average, modifier, msg_start, len(result))\n",
      "C:\\Users\\Honour Jesus\\Anaconda3\\lib\\site-packages\\sklearn\\metrics\\_classification.py:1318: UndefinedMetricWarning: Precision and F-score are ill-defined and being set to 0.0 in labels with no predicted samples. Use `zero_division` parameter to control this behavior.\n",
      "  _warn_prf(average, modifier, msg_start, len(result))\n",
      "C:\\Users\\Honour Jesus\\Anaconda3\\lib\\site-packages\\sklearn\\metrics\\_classification.py:1318: UndefinedMetricWarning: Precision and F-score are ill-defined and being set to 0.0 in labels with no predicted samples. Use `zero_division` parameter to control this behavior.\n",
      "  _warn_prf(average, modifier, msg_start, len(result))\n"
     ]
    }
   ],
   "source": [
    "print(confusion_matrix(y_test,y_pred))\n",
    "print(classification_report(y_test,y_pred))"
   ]
  },
  {
   "cell_type": "code",
   "execution_count": 36,
   "metadata": {},
   "outputs": [
    {
     "name": "stdout",
     "output_type": "stream",
     "text": [
      "Learning rate set to 0.004583\n",
      "0:\tlearn: 0.6897625\ttotal: 96.9ms\tremaining: 1m 36s\n",
      "1:\tlearn: 0.6865616\ttotal: 103ms\tremaining: 51.2s\n",
      "2:\tlearn: 0.6833386\ttotal: 108ms\tremaining: 35.8s\n",
      "3:\tlearn: 0.6795565\ttotal: 114ms\tremaining: 28.4s\n",
      "4:\tlearn: 0.6772344\ttotal: 119ms\tremaining: 23.7s\n",
      "5:\tlearn: 0.6739997\ttotal: 125ms\tremaining: 20.7s\n",
      "6:\tlearn: 0.6709278\ttotal: 130ms\tremaining: 18.5s\n",
      "7:\tlearn: 0.6681494\ttotal: 135ms\tremaining: 16.7s\n",
      "8:\tlearn: 0.6655668\ttotal: 142ms\tremaining: 15.7s\n",
      "9:\tlearn: 0.6635165\ttotal: 146ms\tremaining: 14.4s\n",
      "10:\tlearn: 0.6601602\ttotal: 152ms\tremaining: 13.7s\n",
      "11:\tlearn: 0.6569506\ttotal: 158ms\tremaining: 13s\n",
      "12:\tlearn: 0.6541386\ttotal: 165ms\tremaining: 12.5s\n",
      "13:\tlearn: 0.6509861\ttotal: 192ms\tremaining: 13.5s\n",
      "14:\tlearn: 0.6471736\ttotal: 198ms\tremaining: 13s\n",
      "15:\tlearn: 0.6444456\ttotal: 203ms\tremaining: 12.5s\n",
      "16:\tlearn: 0.6416644\ttotal: 208ms\tremaining: 12s\n",
      "17:\tlearn: 0.6387740\ttotal: 213ms\tremaining: 11.6s\n",
      "18:\tlearn: 0.6354931\ttotal: 219ms\tremaining: 11.3s\n",
      "19:\tlearn: 0.6331473\ttotal: 224ms\tremaining: 11s\n",
      "20:\tlearn: 0.6306914\ttotal: 229ms\tremaining: 10.7s\n",
      "21:\tlearn: 0.6285694\ttotal: 234ms\tremaining: 10.4s\n",
      "22:\tlearn: 0.6257928\ttotal: 240ms\tremaining: 10.2s\n",
      "23:\tlearn: 0.6237222\ttotal: 243ms\tremaining: 9.88s\n",
      "24:\tlearn: 0.6206217\ttotal: 248ms\tremaining: 9.68s\n",
      "25:\tlearn: 0.6174900\ttotal: 253ms\tremaining: 9.48s\n",
      "26:\tlearn: 0.6149870\ttotal: 259ms\tremaining: 9.32s\n",
      "27:\tlearn: 0.6125059\ttotal: 263ms\tremaining: 9.12s\n",
      "28:\tlearn: 0.6103895\ttotal: 268ms\tremaining: 8.96s\n",
      "29:\tlearn: 0.6074337\ttotal: 273ms\tremaining: 8.82s\n",
      "30:\tlearn: 0.6051550\ttotal: 278ms\tremaining: 8.68s\n",
      "31:\tlearn: 0.6025570\ttotal: 284ms\tremaining: 8.59s\n",
      "32:\tlearn: 0.6006525\ttotal: 289ms\tremaining: 8.45s\n",
      "33:\tlearn: 0.5981575\ttotal: 294ms\tremaining: 8.35s\n",
      "34:\tlearn: 0.5960925\ttotal: 299ms\tremaining: 8.25s\n",
      "35:\tlearn: 0.5937584\ttotal: 304ms\tremaining: 8.15s\n",
      "36:\tlearn: 0.5911597\ttotal: 313ms\tremaining: 8.14s\n",
      "37:\tlearn: 0.5891196\ttotal: 320ms\tremaining: 8.1s\n",
      "38:\tlearn: 0.5865270\ttotal: 326ms\tremaining: 8.04s\n",
      "39:\tlearn: 0.5838423\ttotal: 333ms\tremaining: 7.99s\n",
      "40:\tlearn: 0.5816054\ttotal: 354ms\tremaining: 8.28s\n",
      "41:\tlearn: 0.5793818\ttotal: 360ms\tremaining: 8.22s\n",
      "42:\tlearn: 0.5767382\ttotal: 366ms\tremaining: 8.15s\n",
      "43:\tlearn: 0.5749411\ttotal: 369ms\tremaining: 8.02s\n",
      "44:\tlearn: 0.5721978\ttotal: 375ms\tremaining: 7.95s\n",
      "45:\tlearn: 0.5703668\ttotal: 381ms\tremaining: 7.9s\n",
      "46:\tlearn: 0.5683963\ttotal: 387ms\tremaining: 7.84s\n",
      "47:\tlearn: 0.5667579\ttotal: 392ms\tremaining: 7.78s\n",
      "48:\tlearn: 0.5645532\ttotal: 398ms\tremaining: 7.72s\n",
      "49:\tlearn: 0.5621772\ttotal: 403ms\tremaining: 7.66s\n",
      "50:\tlearn: 0.5603670\ttotal: 411ms\tremaining: 7.64s\n",
      "51:\tlearn: 0.5584822\ttotal: 418ms\tremaining: 7.61s\n",
      "52:\tlearn: 0.5559798\ttotal: 423ms\tremaining: 7.56s\n",
      "53:\tlearn: 0.5536744\ttotal: 429ms\tremaining: 7.51s\n",
      "54:\tlearn: 0.5518012\ttotal: 435ms\tremaining: 7.47s\n",
      "55:\tlearn: 0.5496495\ttotal: 443ms\tremaining: 7.46s\n",
      "56:\tlearn: 0.5477136\ttotal: 448ms\tremaining: 7.42s\n",
      "57:\tlearn: 0.5460440\ttotal: 455ms\tremaining: 7.39s\n",
      "58:\tlearn: 0.5440901\ttotal: 460ms\tremaining: 7.34s\n",
      "59:\tlearn: 0.5418808\ttotal: 466ms\tremaining: 7.3s\n",
      "60:\tlearn: 0.5398637\ttotal: 472ms\tremaining: 7.26s\n",
      "61:\tlearn: 0.5379546\ttotal: 479ms\tremaining: 7.25s\n",
      "62:\tlearn: 0.5356147\ttotal: 487ms\tremaining: 7.24s\n",
      "63:\tlearn: 0.5337946\ttotal: 492ms\tremaining: 7.2s\n",
      "64:\tlearn: 0.5324581\ttotal: 500ms\tremaining: 7.19s\n",
      "65:\tlearn: 0.5309322\ttotal: 506ms\tremaining: 7.17s\n",
      "66:\tlearn: 0.5290140\ttotal: 516ms\tremaining: 7.18s\n",
      "67:\tlearn: 0.5277171\ttotal: 529ms\tremaining: 7.25s\n",
      "68:\tlearn: 0.5258414\ttotal: 535ms\tremaining: 7.21s\n",
      "69:\tlearn: 0.5236444\ttotal: 541ms\tremaining: 7.18s\n",
      "70:\tlearn: 0.5221908\ttotal: 547ms\tremaining: 7.16s\n",
      "71:\tlearn: 0.5200786\ttotal: 552ms\tremaining: 7.11s\n",
      "72:\tlearn: 0.5181652\ttotal: 558ms\tremaining: 7.09s\n",
      "73:\tlearn: 0.5174143\ttotal: 560ms\tremaining: 7.01s\n",
      "74:\tlearn: 0.5149533\ttotal: 565ms\tremaining: 6.97s\n",
      "75:\tlearn: 0.5131870\ttotal: 570ms\tremaining: 6.93s\n",
      "76:\tlearn: 0.5113870\ttotal: 576ms\tremaining: 6.9s\n",
      "77:\tlearn: 0.5092743\ttotal: 580ms\tremaining: 6.86s\n",
      "78:\tlearn: 0.5075417\ttotal: 585ms\tremaining: 6.82s\n",
      "79:\tlearn: 0.5058395\ttotal: 590ms\tremaining: 6.78s\n",
      "80:\tlearn: 0.5038159\ttotal: 594ms\tremaining: 6.74s\n",
      "81:\tlearn: 0.5020583\ttotal: 598ms\tremaining: 6.7s\n",
      "82:\tlearn: 0.5010071\ttotal: 601ms\tremaining: 6.64s\n",
      "83:\tlearn: 0.4993690\ttotal: 606ms\tremaining: 6.61s\n",
      "84:\tlearn: 0.4978572\ttotal: 610ms\tremaining: 6.57s\n",
      "85:\tlearn: 0.4963285\ttotal: 616ms\tremaining: 6.55s\n",
      "86:\tlearn: 0.4947405\ttotal: 621ms\tremaining: 6.51s\n",
      "87:\tlearn: 0.4926116\ttotal: 625ms\tremaining: 6.48s\n",
      "88:\tlearn: 0.4911860\ttotal: 631ms\tremaining: 6.46s\n",
      "89:\tlearn: 0.4903226\ttotal: 634ms\tremaining: 6.41s\n",
      "90:\tlearn: 0.4883965\ttotal: 638ms\tremaining: 6.37s\n",
      "91:\tlearn: 0.4868558\ttotal: 648ms\tremaining: 6.4s\n",
      "92:\tlearn: 0.4856567\ttotal: 654ms\tremaining: 6.38s\n",
      "93:\tlearn: 0.4838725\ttotal: 660ms\tremaining: 6.36s\n",
      "94:\tlearn: 0.4822565\ttotal: 667ms\tremaining: 6.35s\n",
      "95:\tlearn: 0.4808129\ttotal: 679ms\tremaining: 6.39s\n",
      "96:\tlearn: 0.4794660\ttotal: 684ms\tremaining: 6.37s\n",
      "97:\tlearn: 0.4782128\ttotal: 695ms\tremaining: 6.39s\n",
      "98:\tlearn: 0.4765764\ttotal: 703ms\tremaining: 6.39s\n",
      "99:\tlearn: 0.4749070\ttotal: 709ms\tremaining: 6.38s\n",
      "100:\tlearn: 0.4736559\ttotal: 713ms\tremaining: 6.35s\n",
      "101:\tlearn: 0.4717712\ttotal: 719ms\tremaining: 6.33s\n",
      "102:\tlearn: 0.4702284\ttotal: 723ms\tremaining: 6.3s\n",
      "103:\tlearn: 0.4684141\ttotal: 727ms\tremaining: 6.27s\n",
      "104:\tlearn: 0.4668568\ttotal: 732ms\tremaining: 6.24s\n",
      "105:\tlearn: 0.4658348\ttotal: 736ms\tremaining: 6.21s\n",
      "106:\tlearn: 0.4642197\ttotal: 741ms\tremaining: 6.18s\n",
      "107:\tlearn: 0.4627264\ttotal: 745ms\tremaining: 6.15s\n",
      "108:\tlearn: 0.4612288\ttotal: 749ms\tremaining: 6.12s\n",
      "109:\tlearn: 0.4599744\ttotal: 755ms\tremaining: 6.11s\n",
      "110:\tlearn: 0.4583074\ttotal: 760ms\tremaining: 6.09s\n",
      "111:\tlearn: 0.4567426\ttotal: 765ms\tremaining: 6.07s\n",
      "112:\tlearn: 0.4550157\ttotal: 770ms\tremaining: 6.04s\n",
      "113:\tlearn: 0.4536704\ttotal: 775ms\tremaining: 6.02s\n",
      "114:\tlearn: 0.4526101\ttotal: 779ms\tremaining: 6s\n",
      "115:\tlearn: 0.4511335\ttotal: 784ms\tremaining: 5.97s\n",
      "116:\tlearn: 0.4500523\ttotal: 788ms\tremaining: 5.95s\n",
      "117:\tlearn: 0.4489274\ttotal: 792ms\tremaining: 5.92s\n",
      "118:\tlearn: 0.4473428\ttotal: 796ms\tremaining: 5.89s\n",
      "119:\tlearn: 0.4461790\ttotal: 801ms\tremaining: 5.87s\n",
      "120:\tlearn: 0.4446804\ttotal: 805ms\tremaining: 5.85s\n",
      "121:\tlearn: 0.4431814\ttotal: 811ms\tremaining: 5.84s\n",
      "122:\tlearn: 0.4416772\ttotal: 818ms\tremaining: 5.83s\n",
      "123:\tlearn: 0.4399249\ttotal: 824ms\tremaining: 5.82s\n",
      "124:\tlearn: 0.4386096\ttotal: 830ms\tremaining: 5.81s\n",
      "125:\tlearn: 0.4374719\ttotal: 836ms\tremaining: 5.8s\n",
      "126:\tlearn: 0.4356281\ttotal: 841ms\tremaining: 5.78s\n",
      "127:\tlearn: 0.4342215\ttotal: 846ms\tremaining: 5.76s\n",
      "128:\tlearn: 0.4329117\ttotal: 852ms\tremaining: 5.75s\n",
      "129:\tlearn: 0.4319548\ttotal: 869ms\tremaining: 5.81s\n",
      "130:\tlearn: 0.4308653\ttotal: 876ms\tremaining: 5.81s\n",
      "131:\tlearn: 0.4297023\ttotal: 881ms\tremaining: 5.79s\n",
      "132:\tlearn: 0.4283076\ttotal: 887ms\tremaining: 5.78s\n",
      "133:\tlearn: 0.4266641\ttotal: 893ms\tremaining: 5.77s\n",
      "134:\tlearn: 0.4253899\ttotal: 900ms\tremaining: 5.77s\n",
      "135:\tlearn: 0.4239734\ttotal: 905ms\tremaining: 5.75s\n",
      "136:\tlearn: 0.4226431\ttotal: 911ms\tremaining: 5.74s\n",
      "137:\tlearn: 0.4215106\ttotal: 916ms\tremaining: 5.72s\n",
      "138:\tlearn: 0.4201279\ttotal: 921ms\tremaining: 5.71s\n",
      "139:\tlearn: 0.4192627\ttotal: 927ms\tremaining: 5.69s\n",
      "140:\tlearn: 0.4175023\ttotal: 932ms\tremaining: 5.68s\n",
      "141:\tlearn: 0.4161399\ttotal: 937ms\tremaining: 5.66s\n",
      "142:\tlearn: 0.4149477\ttotal: 943ms\tremaining: 5.65s\n",
      "143:\tlearn: 0.4135872\ttotal: 948ms\tremaining: 5.63s\n",
      "144:\tlearn: 0.4124292\ttotal: 953ms\tremaining: 5.62s\n",
      "145:\tlearn: 0.4119390\ttotal: 957ms\tremaining: 5.6s\n",
      "146:\tlearn: 0.4110887\ttotal: 962ms\tremaining: 5.58s\n",
      "147:\tlearn: 0.4097980\ttotal: 968ms\tremaining: 5.57s\n",
      "148:\tlearn: 0.4091366\ttotal: 971ms\tremaining: 5.55s\n",
      "149:\tlearn: 0.4079183\ttotal: 978ms\tremaining: 5.54s\n",
      "150:\tlearn: 0.4067337\ttotal: 991ms\tremaining: 5.57s\n",
      "151:\tlearn: 0.4055651\ttotal: 999ms\tremaining: 5.57s\n",
      "152:\tlearn: 0.4043257\ttotal: 1s\tremaining: 5.56s\n",
      "153:\tlearn: 0.4028683\ttotal: 1.01s\tremaining: 5.55s\n",
      "154:\tlearn: 0.4015550\ttotal: 1.02s\tremaining: 5.54s\n",
      "155:\tlearn: 0.4006186\ttotal: 1.02s\tremaining: 5.53s\n",
      "156:\tlearn: 0.3994887\ttotal: 1.03s\tremaining: 5.52s\n",
      "157:\tlearn: 0.3984865\ttotal: 1.03s\tremaining: 5.51s\n",
      "158:\tlearn: 0.3971521\ttotal: 1.04s\tremaining: 5.5s\n",
      "159:\tlearn: 0.3960192\ttotal: 1.04s\tremaining: 5.48s\n",
      "160:\tlearn: 0.3951929\ttotal: 1.05s\tremaining: 5.47s\n",
      "161:\tlearn: 0.3941313\ttotal: 1.06s\tremaining: 5.47s\n",
      "162:\tlearn: 0.3931878\ttotal: 1.06s\tremaining: 5.46s\n",
      "163:\tlearn: 0.3920195\ttotal: 1.07s\tremaining: 5.45s\n",
      "164:\tlearn: 0.3911204\ttotal: 1.07s\tremaining: 5.44s\n",
      "165:\tlearn: 0.3897194\ttotal: 1.08s\tremaining: 5.43s\n",
      "166:\tlearn: 0.3888746\ttotal: 1.09s\tremaining: 5.42s\n",
      "167:\tlearn: 0.3880856\ttotal: 1.09s\tremaining: 5.4s\n",
      "168:\tlearn: 0.3871111\ttotal: 1.1s\tremaining: 5.39s\n",
      "169:\tlearn: 0.3861038\ttotal: 1.1s\tremaining: 5.38s\n",
      "170:\tlearn: 0.3850931\ttotal: 1.1s\tremaining: 5.36s\n",
      "171:\tlearn: 0.3843950\ttotal: 1.11s\tremaining: 5.35s\n",
      "172:\tlearn: 0.3834097\ttotal: 1.11s\tremaining: 5.33s\n",
      "173:\tlearn: 0.3825500\ttotal: 1.12s\tremaining: 5.32s\n",
      "174:\tlearn: 0.3816256\ttotal: 1.12s\tremaining: 5.29s\n",
      "175:\tlearn: 0.3804291\ttotal: 1.13s\tremaining: 5.28s\n",
      "176:\tlearn: 0.3793504\ttotal: 1.13s\tremaining: 5.26s\n",
      "177:\tlearn: 0.3782038\ttotal: 1.14s\tremaining: 5.25s\n",
      "178:\tlearn: 0.3772843\ttotal: 1.14s\tremaining: 5.24s\n",
      "179:\tlearn: 0.3765705\ttotal: 1.15s\tremaining: 5.22s\n",
      "180:\tlearn: 0.3756964\ttotal: 1.15s\tremaining: 5.21s\n",
      "181:\tlearn: 0.3747765\ttotal: 1.16s\tremaining: 5.19s\n"
     ]
    },
    {
     "name": "stdout",
     "output_type": "stream",
     "text": [
      "182:\tlearn: 0.3737412\ttotal: 1.16s\tremaining: 5.18s\n",
      "183:\tlearn: 0.3726064\ttotal: 1.17s\tremaining: 5.18s\n",
      "184:\tlearn: 0.3717197\ttotal: 1.17s\tremaining: 5.17s\n",
      "185:\tlearn: 0.3709731\ttotal: 1.18s\tremaining: 5.16s\n",
      "186:\tlearn: 0.3699430\ttotal: 1.18s\tremaining: 5.14s\n",
      "187:\tlearn: 0.3691587\ttotal: 1.19s\tremaining: 5.13s\n",
      "188:\tlearn: 0.3682305\ttotal: 1.19s\tremaining: 5.12s\n",
      "189:\tlearn: 0.3674917\ttotal: 1.2s\tremaining: 5.11s\n",
      "190:\tlearn: 0.3671042\ttotal: 1.2s\tremaining: 5.09s\n",
      "191:\tlearn: 0.3662809\ttotal: 1.21s\tremaining: 5.08s\n",
      "192:\tlearn: 0.3654516\ttotal: 1.21s\tremaining: 5.07s\n",
      "193:\tlearn: 0.3647443\ttotal: 1.22s\tremaining: 5.06s\n",
      "194:\tlearn: 0.3638634\ttotal: 1.22s\tremaining: 5.05s\n",
      "195:\tlearn: 0.3631933\ttotal: 1.23s\tremaining: 5.05s\n",
      "196:\tlearn: 0.3621678\ttotal: 1.24s\tremaining: 5.05s\n",
      "197:\tlearn: 0.3613291\ttotal: 1.25s\tremaining: 5.04s\n",
      "198:\tlearn: 0.3605303\ttotal: 1.25s\tremaining: 5.04s\n",
      "199:\tlearn: 0.3596461\ttotal: 1.26s\tremaining: 5.03s\n",
      "200:\tlearn: 0.3585931\ttotal: 1.26s\tremaining: 5.02s\n",
      "201:\tlearn: 0.3578528\ttotal: 1.27s\tremaining: 5s\n",
      "202:\tlearn: 0.3569187\ttotal: 1.27s\tremaining: 4.99s\n",
      "203:\tlearn: 0.3561744\ttotal: 1.27s\tremaining: 4.97s\n",
      "204:\tlearn: 0.3556016\ttotal: 1.28s\tremaining: 4.96s\n",
      "205:\tlearn: 0.3547865\ttotal: 1.28s\tremaining: 4.95s\n",
      "206:\tlearn: 0.3536599\ttotal: 1.29s\tremaining: 4.94s\n",
      "207:\tlearn: 0.3527620\ttotal: 1.29s\tremaining: 4.92s\n",
      "208:\tlearn: 0.3520753\ttotal: 1.3s\tremaining: 4.92s\n",
      "209:\tlearn: 0.3512614\ttotal: 1.31s\tremaining: 4.91s\n",
      "210:\tlearn: 0.3506791\ttotal: 1.31s\tremaining: 4.91s\n",
      "211:\tlearn: 0.3500099\ttotal: 1.32s\tremaining: 4.91s\n",
      "212:\tlearn: 0.3491159\ttotal: 1.32s\tremaining: 4.9s\n",
      "213:\tlearn: 0.3482541\ttotal: 1.33s\tremaining: 4.9s\n",
      "214:\tlearn: 0.3475953\ttotal: 1.34s\tremaining: 4.89s\n",
      "215:\tlearn: 0.3466732\ttotal: 1.34s\tremaining: 4.88s\n",
      "216:\tlearn: 0.3460848\ttotal: 1.35s\tremaining: 4.86s\n",
      "217:\tlearn: 0.3450391\ttotal: 1.35s\tremaining: 4.85s\n",
      "218:\tlearn: 0.3440733\ttotal: 1.36s\tremaining: 4.84s\n",
      "219:\tlearn: 0.3432460\ttotal: 1.36s\tremaining: 4.83s\n",
      "220:\tlearn: 0.3424997\ttotal: 1.37s\tremaining: 4.82s\n",
      "221:\tlearn: 0.3419749\ttotal: 1.37s\tremaining: 4.81s\n",
      "222:\tlearn: 0.3411755\ttotal: 1.38s\tremaining: 4.79s\n",
      "223:\tlearn: 0.3406387\ttotal: 1.38s\tremaining: 4.78s\n",
      "224:\tlearn: 0.3398370\ttotal: 1.38s\tremaining: 4.76s\n",
      "225:\tlearn: 0.3389956\ttotal: 1.39s\tremaining: 4.75s\n",
      "226:\tlearn: 0.3387920\ttotal: 1.39s\tremaining: 4.73s\n",
      "227:\tlearn: 0.3381025\ttotal: 1.39s\tremaining: 4.72s\n",
      "228:\tlearn: 0.3374659\ttotal: 1.4s\tremaining: 4.71s\n",
      "229:\tlearn: 0.3368129\ttotal: 1.4s\tremaining: 4.7s\n",
      "230:\tlearn: 0.3358462\ttotal: 1.41s\tremaining: 4.68s\n",
      "231:\tlearn: 0.3349162\ttotal: 1.41s\tremaining: 4.67s\n",
      "232:\tlearn: 0.3341810\ttotal: 1.42s\tremaining: 4.67s\n",
      "233:\tlearn: 0.3333483\ttotal: 1.42s\tremaining: 4.65s\n",
      "234:\tlearn: 0.3322334\ttotal: 1.43s\tremaining: 4.64s\n",
      "235:\tlearn: 0.3315028\ttotal: 1.43s\tremaining: 4.63s\n",
      "236:\tlearn: 0.3305608\ttotal: 1.43s\tremaining: 4.62s\n",
      "237:\tlearn: 0.3299688\ttotal: 1.44s\tremaining: 4.61s\n",
      "238:\tlearn: 0.3289914\ttotal: 1.44s\tremaining: 4.59s\n",
      "239:\tlearn: 0.3284079\ttotal: 1.45s\tremaining: 4.58s\n",
      "240:\tlearn: 0.3276574\ttotal: 1.45s\tremaining: 4.57s\n",
      "241:\tlearn: 0.3271256\ttotal: 1.46s\tremaining: 4.56s\n",
      "242:\tlearn: 0.3264030\ttotal: 1.46s\tremaining: 4.55s\n",
      "243:\tlearn: 0.3258145\ttotal: 1.46s\tremaining: 4.54s\n",
      "244:\tlearn: 0.3256017\ttotal: 1.47s\tremaining: 4.52s\n",
      "245:\tlearn: 0.3248695\ttotal: 1.47s\tremaining: 4.52s\n",
      "246:\tlearn: 0.3240690\ttotal: 1.48s\tremaining: 4.51s\n",
      "247:\tlearn: 0.3231664\ttotal: 1.48s\tremaining: 4.5s\n",
      "248:\tlearn: 0.3229100\ttotal: 1.49s\tremaining: 4.48s\n",
      "249:\tlearn: 0.3222485\ttotal: 1.49s\tremaining: 4.47s\n",
      "250:\tlearn: 0.3215231\ttotal: 1.49s\tremaining: 4.46s\n",
      "251:\tlearn: 0.3209014\ttotal: 1.5s\tremaining: 4.44s\n",
      "252:\tlearn: 0.3202556\ttotal: 1.5s\tremaining: 4.43s\n",
      "253:\tlearn: 0.3199546\ttotal: 1.51s\tremaining: 4.42s\n",
      "254:\tlearn: 0.3193682\ttotal: 1.51s\tremaining: 4.41s\n",
      "255:\tlearn: 0.3187153\ttotal: 1.51s\tremaining: 4.41s\n",
      "256:\tlearn: 0.3183814\ttotal: 1.52s\tremaining: 4.4s\n",
      "257:\tlearn: 0.3181208\ttotal: 1.52s\tremaining: 4.38s\n",
      "258:\tlearn: 0.3172530\ttotal: 1.53s\tremaining: 4.38s\n",
      "259:\tlearn: 0.3166112\ttotal: 1.53s\tremaining: 4.37s\n",
      "260:\tlearn: 0.3160537\ttotal: 1.54s\tremaining: 4.36s\n",
      "261:\tlearn: 0.3151954\ttotal: 1.54s\tremaining: 4.35s\n",
      "262:\tlearn: 0.3145078\ttotal: 1.55s\tremaining: 4.34s\n",
      "263:\tlearn: 0.3140314\ttotal: 1.55s\tremaining: 4.34s\n",
      "264:\tlearn: 0.3136909\ttotal: 1.56s\tremaining: 4.32s\n",
      "265:\tlearn: 0.3130754\ttotal: 1.56s\tremaining: 4.32s\n",
      "266:\tlearn: 0.3126798\ttotal: 1.57s\tremaining: 4.3s\n",
      "267:\tlearn: 0.3119436\ttotal: 1.57s\tremaining: 4.3s\n",
      "268:\tlearn: 0.3111400\ttotal: 1.58s\tremaining: 4.29s\n",
      "269:\tlearn: 0.3110273\ttotal: 1.58s\tremaining: 4.28s\n",
      "270:\tlearn: 0.3102552\ttotal: 1.59s\tremaining: 4.27s\n",
      "271:\tlearn: 0.3096153\ttotal: 1.59s\tremaining: 4.26s\n",
      "272:\tlearn: 0.3088701\ttotal: 1.6s\tremaining: 4.25s\n",
      "273:\tlearn: 0.3083263\ttotal: 1.6s\tremaining: 4.24s\n",
      "274:\tlearn: 0.3075646\ttotal: 1.6s\tremaining: 4.23s\n",
      "275:\tlearn: 0.3070608\ttotal: 1.61s\tremaining: 4.22s\n",
      "276:\tlearn: 0.3064654\ttotal: 1.61s\tremaining: 4.21s\n",
      "277:\tlearn: 0.3057915\ttotal: 1.62s\tremaining: 4.2s\n",
      "278:\tlearn: 0.3050322\ttotal: 1.62s\tremaining: 4.19s\n",
      "279:\tlearn: 0.3047504\ttotal: 1.63s\tremaining: 4.18s\n",
      "280:\tlearn: 0.3040669\ttotal: 1.63s\tremaining: 4.17s\n",
      "281:\tlearn: 0.3033002\ttotal: 1.63s\tremaining: 4.16s\n",
      "282:\tlearn: 0.3026638\ttotal: 1.64s\tremaining: 4.15s\n",
      "283:\tlearn: 0.3022972\ttotal: 1.64s\tremaining: 4.14s\n",
      "284:\tlearn: 0.3015300\ttotal: 1.65s\tremaining: 4.14s\n",
      "285:\tlearn: 0.3010812\ttotal: 1.66s\tremaining: 4.13s\n",
      "286:\tlearn: 0.3002250\ttotal: 1.66s\tremaining: 4.13s\n",
      "287:\tlearn: 0.2995486\ttotal: 1.67s\tremaining: 4.12s\n",
      "288:\tlearn: 0.2989632\ttotal: 1.67s\tremaining: 4.11s\n",
      "289:\tlearn: 0.2983537\ttotal: 1.67s\tremaining: 4.1s\n",
      "290:\tlearn: 0.2975939\ttotal: 1.68s\tremaining: 4.09s\n",
      "291:\tlearn: 0.2969829\ttotal: 1.69s\tremaining: 4.09s\n",
      "292:\tlearn: 0.2963232\ttotal: 1.69s\tremaining: 4.08s\n",
      "293:\tlearn: 0.2957302\ttotal: 1.69s\tremaining: 4.07s\n",
      "294:\tlearn: 0.2952126\ttotal: 1.7s\tremaining: 4.06s\n",
      "295:\tlearn: 0.2945591\ttotal: 1.7s\tremaining: 4.05s\n",
      "296:\tlearn: 0.2940888\ttotal: 1.71s\tremaining: 4.04s\n",
      "297:\tlearn: 0.2937886\ttotal: 1.71s\tremaining: 4.03s\n",
      "298:\tlearn: 0.2932726\ttotal: 1.71s\tremaining: 4.02s\n",
      "299:\tlearn: 0.2926465\ttotal: 1.72s\tremaining: 4.01s\n",
      "300:\tlearn: 0.2921683\ttotal: 1.72s\tremaining: 4s\n",
      "301:\tlearn: 0.2916565\ttotal: 1.72s\tremaining: 3.98s\n",
      "302:\tlearn: 0.2909989\ttotal: 1.73s\tremaining: 3.97s\n",
      "303:\tlearn: 0.2905248\ttotal: 1.73s\tremaining: 3.96s\n",
      "304:\tlearn: 0.2898962\ttotal: 1.73s\tremaining: 3.95s\n",
      "305:\tlearn: 0.2894417\ttotal: 1.74s\tremaining: 3.94s\n",
      "306:\tlearn: 0.2890571\ttotal: 1.74s\tremaining: 3.93s\n",
      "307:\tlearn: 0.2882716\ttotal: 1.75s\tremaining: 3.92s\n",
      "308:\tlearn: 0.2876935\ttotal: 1.75s\tremaining: 3.92s\n",
      "309:\tlearn: 0.2870908\ttotal: 1.76s\tremaining: 3.91s\n",
      "310:\tlearn: 0.2865290\ttotal: 1.76s\tremaining: 3.9s\n",
      "311:\tlearn: 0.2858383\ttotal: 1.76s\tremaining: 3.89s\n",
      "312:\tlearn: 0.2854211\ttotal: 1.77s\tremaining: 3.88s\n",
      "313:\tlearn: 0.2849129\ttotal: 1.77s\tremaining: 3.87s\n",
      "314:\tlearn: 0.2846868\ttotal: 1.77s\tremaining: 3.86s\n",
      "315:\tlearn: 0.2842949\ttotal: 1.78s\tremaining: 3.85s\n",
      "316:\tlearn: 0.2840206\ttotal: 1.78s\tremaining: 3.84s\n",
      "317:\tlearn: 0.2835825\ttotal: 1.78s\tremaining: 3.83s\n",
      "318:\tlearn: 0.2831695\ttotal: 1.79s\tremaining: 3.82s\n",
      "319:\tlearn: 0.2823137\ttotal: 1.79s\tremaining: 3.81s\n",
      "320:\tlearn: 0.2819710\ttotal: 1.8s\tremaining: 3.8s\n",
      "321:\tlearn: 0.2816151\ttotal: 1.8s\tremaining: 3.79s\n",
      "322:\tlearn: 0.2813270\ttotal: 1.81s\tremaining: 3.79s\n",
      "323:\tlearn: 0.2808786\ttotal: 1.81s\tremaining: 3.79s\n",
      "324:\tlearn: 0.2803978\ttotal: 1.82s\tremaining: 3.78s\n",
      "325:\tlearn: 0.2799619\ttotal: 1.82s\tremaining: 3.77s\n",
      "326:\tlearn: 0.2792479\ttotal: 1.83s\tremaining: 3.77s\n",
      "327:\tlearn: 0.2786076\ttotal: 1.83s\tremaining: 3.76s\n",
      "328:\tlearn: 0.2780446\ttotal: 1.84s\tremaining: 3.75s\n",
      "329:\tlearn: 0.2774621\ttotal: 1.84s\tremaining: 3.74s\n",
      "330:\tlearn: 0.2767718\ttotal: 1.85s\tremaining: 3.74s\n",
      "331:\tlearn: 0.2762245\ttotal: 1.85s\tremaining: 3.73s\n",
      "332:\tlearn: 0.2757410\ttotal: 1.86s\tremaining: 3.73s\n",
      "333:\tlearn: 0.2751707\ttotal: 1.86s\tremaining: 3.72s\n",
      "334:\tlearn: 0.2744776\ttotal: 1.87s\tremaining: 3.71s\n",
      "335:\tlearn: 0.2738734\ttotal: 1.88s\tremaining: 3.71s\n",
      "336:\tlearn: 0.2734151\ttotal: 1.88s\tremaining: 3.7s\n",
      "337:\tlearn: 0.2728710\ttotal: 1.88s\tremaining: 3.69s\n",
      "338:\tlearn: 0.2721242\ttotal: 1.89s\tremaining: 3.68s\n",
      "339:\tlearn: 0.2715610\ttotal: 1.89s\tremaining: 3.68s\n",
      "340:\tlearn: 0.2709865\ttotal: 1.9s\tremaining: 3.67s\n",
      "341:\tlearn: 0.2704225\ttotal: 1.9s\tremaining: 3.66s\n",
      "342:\tlearn: 0.2700041\ttotal: 1.9s\tremaining: 3.65s\n",
      "343:\tlearn: 0.2693954\ttotal: 1.91s\tremaining: 3.64s\n",
      "344:\tlearn: 0.2689403\ttotal: 1.91s\tremaining: 3.63s\n",
      "345:\tlearn: 0.2684927\ttotal: 1.92s\tremaining: 3.62s\n",
      "346:\tlearn: 0.2679022\ttotal: 1.92s\tremaining: 3.61s\n",
      "347:\tlearn: 0.2673662\ttotal: 1.92s\tremaining: 3.6s\n",
      "348:\tlearn: 0.2668556\ttotal: 1.93s\tremaining: 3.59s\n",
      "349:\tlearn: 0.2665460\ttotal: 1.93s\tremaining: 3.59s\n",
      "350:\tlearn: 0.2662468\ttotal: 1.93s\tremaining: 3.58s\n",
      "351:\tlearn: 0.2658291\ttotal: 1.94s\tremaining: 3.57s\n",
      "352:\tlearn: 0.2653770\ttotal: 1.94s\tremaining: 3.56s\n",
      "353:\tlearn: 0.2649007\ttotal: 1.95s\tremaining: 3.55s\n",
      "354:\tlearn: 0.2644355\ttotal: 1.95s\tremaining: 3.54s\n",
      "355:\tlearn: 0.2638883\ttotal: 1.95s\tremaining: 3.54s\n",
      "356:\tlearn: 0.2634410\ttotal: 1.96s\tremaining: 3.53s\n",
      "357:\tlearn: 0.2630610\ttotal: 1.96s\tremaining: 3.52s\n",
      "358:\tlearn: 0.2624256\ttotal: 1.97s\tremaining: 3.51s\n",
      "359:\tlearn: 0.2620089\ttotal: 1.97s\tremaining: 3.5s\n"
     ]
    },
    {
     "name": "stdout",
     "output_type": "stream",
     "text": [
      "360:\tlearn: 0.2614932\ttotal: 1.98s\tremaining: 3.5s\n",
      "361:\tlearn: 0.2609926\ttotal: 1.98s\tremaining: 3.49s\n",
      "362:\tlearn: 0.2604520\ttotal: 1.99s\tremaining: 3.49s\n",
      "363:\tlearn: 0.2601051\ttotal: 1.99s\tremaining: 3.48s\n",
      "364:\tlearn: 0.2598709\ttotal: 2s\tremaining: 3.47s\n",
      "365:\tlearn: 0.2593628\ttotal: 2s\tremaining: 3.47s\n",
      "366:\tlearn: 0.2589880\ttotal: 2.01s\tremaining: 3.46s\n",
      "367:\tlearn: 0.2584928\ttotal: 2.01s\tremaining: 3.45s\n",
      "368:\tlearn: 0.2580714\ttotal: 2.02s\tremaining: 3.45s\n",
      "369:\tlearn: 0.2576584\ttotal: 2.02s\tremaining: 3.44s\n",
      "370:\tlearn: 0.2571889\ttotal: 2.03s\tremaining: 3.44s\n",
      "371:\tlearn: 0.2566173\ttotal: 2.03s\tremaining: 3.43s\n",
      "372:\tlearn: 0.2562312\ttotal: 2.04s\tremaining: 3.43s\n",
      "373:\tlearn: 0.2557746\ttotal: 2.04s\tremaining: 3.42s\n",
      "374:\tlearn: 0.2552341\ttotal: 2.05s\tremaining: 3.42s\n",
      "375:\tlearn: 0.2549503\ttotal: 2.05s\tremaining: 3.41s\n",
      "376:\tlearn: 0.2542940\ttotal: 2.06s\tremaining: 3.4s\n",
      "377:\tlearn: 0.2540154\ttotal: 2.06s\tremaining: 3.4s\n",
      "378:\tlearn: 0.2535389\ttotal: 2.07s\tremaining: 3.39s\n",
      "379:\tlearn: 0.2532497\ttotal: 2.08s\tremaining: 3.38s\n",
      "380:\tlearn: 0.2527080\ttotal: 2.08s\tremaining: 3.38s\n",
      "381:\tlearn: 0.2525583\ttotal: 2.08s\tremaining: 3.37s\n",
      "382:\tlearn: 0.2522372\ttotal: 2.08s\tremaining: 3.36s\n",
      "383:\tlearn: 0.2517807\ttotal: 2.09s\tremaining: 3.35s\n",
      "384:\tlearn: 0.2513953\ttotal: 2.1s\tremaining: 3.35s\n",
      "385:\tlearn: 0.2508393\ttotal: 2.1s\tremaining: 3.34s\n",
      "386:\tlearn: 0.2505289\ttotal: 2.1s\tremaining: 3.33s\n",
      "387:\tlearn: 0.2502239\ttotal: 2.11s\tremaining: 3.32s\n",
      "388:\tlearn: 0.2498357\ttotal: 2.11s\tremaining: 3.32s\n",
      "389:\tlearn: 0.2494732\ttotal: 2.12s\tremaining: 3.31s\n",
      "390:\tlearn: 0.2491085\ttotal: 2.12s\tremaining: 3.3s\n",
      "391:\tlearn: 0.2485962\ttotal: 2.12s\tremaining: 3.29s\n",
      "392:\tlearn: 0.2481353\ttotal: 2.13s\tremaining: 3.28s\n",
      "393:\tlearn: 0.2480059\ttotal: 2.13s\tremaining: 3.27s\n",
      "394:\tlearn: 0.2477083\ttotal: 2.13s\tremaining: 3.27s\n",
      "395:\tlearn: 0.2472800\ttotal: 2.13s\tremaining: 3.26s\n",
      "396:\tlearn: 0.2469131\ttotal: 2.14s\tremaining: 3.25s\n",
      "397:\tlearn: 0.2465310\ttotal: 2.15s\tremaining: 3.24s\n",
      "398:\tlearn: 0.2463547\ttotal: 2.15s\tremaining: 3.24s\n",
      "399:\tlearn: 0.2459986\ttotal: 2.15s\tremaining: 3.23s\n",
      "400:\tlearn: 0.2453542\ttotal: 2.16s\tremaining: 3.23s\n",
      "401:\tlearn: 0.2448628\ttotal: 2.16s\tremaining: 3.22s\n",
      "402:\tlearn: 0.2446097\ttotal: 2.17s\tremaining: 3.22s\n",
      "403:\tlearn: 0.2444201\ttotal: 2.17s\tremaining: 3.21s\n",
      "404:\tlearn: 0.2439623\ttotal: 2.18s\tremaining: 3.2s\n",
      "405:\tlearn: 0.2438929\ttotal: 2.18s\tremaining: 3.19s\n",
      "406:\tlearn: 0.2436189\ttotal: 2.18s\tremaining: 3.18s\n",
      "407:\tlearn: 0.2434829\ttotal: 2.19s\tremaining: 3.17s\n",
      "408:\tlearn: 0.2434707\ttotal: 2.19s\tremaining: 3.16s\n",
      "409:\tlearn: 0.2433666\ttotal: 2.19s\tremaining: 3.15s\n",
      "410:\tlearn: 0.2429045\ttotal: 2.19s\tremaining: 3.14s\n",
      "411:\tlearn: 0.2423998\ttotal: 2.2s\tremaining: 3.14s\n",
      "412:\tlearn: 0.2419866\ttotal: 2.2s\tremaining: 3.13s\n",
      "413:\tlearn: 0.2415929\ttotal: 2.2s\tremaining: 3.12s\n",
      "414:\tlearn: 0.2411467\ttotal: 2.21s\tremaining: 3.11s\n",
      "415:\tlearn: 0.2408082\ttotal: 2.21s\tremaining: 3.1s\n",
      "416:\tlearn: 0.2407141\ttotal: 2.21s\tremaining: 3.09s\n",
      "417:\tlearn: 0.2403624\ttotal: 2.22s\tremaining: 3.08s\n",
      "418:\tlearn: 0.2398736\ttotal: 2.22s\tremaining: 3.08s\n",
      "419:\tlearn: 0.2395353\ttotal: 2.22s\tremaining: 3.07s\n",
      "420:\tlearn: 0.2392397\ttotal: 2.23s\tremaining: 3.06s\n",
      "421:\tlearn: 0.2389039\ttotal: 2.23s\tremaining: 3.05s\n",
      "422:\tlearn: 0.2386095\ttotal: 2.23s\tremaining: 3.04s\n",
      "423:\tlearn: 0.2381170\ttotal: 2.23s\tremaining: 3.04s\n",
      "424:\tlearn: 0.2377782\ttotal: 2.24s\tremaining: 3.03s\n",
      "425:\tlearn: 0.2375859\ttotal: 2.24s\tremaining: 3.02s\n",
      "426:\tlearn: 0.2373685\ttotal: 2.25s\tremaining: 3.01s\n",
      "427:\tlearn: 0.2370215\ttotal: 2.25s\tremaining: 3.01s\n",
      "428:\tlearn: 0.2366538\ttotal: 2.25s\tremaining: 3s\n",
      "429:\tlearn: 0.2363585\ttotal: 2.25s\tremaining: 2.99s\n",
      "430:\tlearn: 0.2359144\ttotal: 2.26s\tremaining: 2.98s\n",
      "431:\tlearn: 0.2356920\ttotal: 2.26s\tremaining: 2.97s\n",
      "432:\tlearn: 0.2355537\ttotal: 2.27s\tremaining: 2.97s\n",
      "433:\tlearn: 0.2351923\ttotal: 2.27s\tremaining: 2.96s\n",
      "434:\tlearn: 0.2348324\ttotal: 2.27s\tremaining: 2.95s\n",
      "435:\tlearn: 0.2343941\ttotal: 2.28s\tremaining: 2.95s\n",
      "436:\tlearn: 0.2340733\ttotal: 2.28s\tremaining: 2.94s\n",
      "437:\tlearn: 0.2336983\ttotal: 2.29s\tremaining: 2.93s\n",
      "438:\tlearn: 0.2334318\ttotal: 2.29s\tremaining: 2.93s\n",
      "439:\tlearn: 0.2330800\ttotal: 2.29s\tremaining: 2.92s\n",
      "440:\tlearn: 0.2327729\ttotal: 2.3s\tremaining: 2.92s\n",
      "441:\tlearn: 0.2325012\ttotal: 2.3s\tremaining: 2.91s\n",
      "442:\tlearn: 0.2323058\ttotal: 2.31s\tremaining: 2.9s\n",
      "443:\tlearn: 0.2318253\ttotal: 2.31s\tremaining: 2.9s\n",
      "444:\tlearn: 0.2314921\ttotal: 2.32s\tremaining: 2.89s\n",
      "445:\tlearn: 0.2311995\ttotal: 2.32s\tremaining: 2.88s\n",
      "446:\tlearn: 0.2308800\ttotal: 2.33s\tremaining: 2.88s\n",
      "447:\tlearn: 0.2305665\ttotal: 2.33s\tremaining: 2.87s\n",
      "448:\tlearn: 0.2301427\ttotal: 2.33s\tremaining: 2.86s\n",
      "449:\tlearn: 0.2297121\ttotal: 2.34s\tremaining: 2.86s\n",
      "450:\tlearn: 0.2294117\ttotal: 2.34s\tremaining: 2.85s\n",
      "451:\tlearn: 0.2289785\ttotal: 2.35s\tremaining: 2.85s\n",
      "452:\tlearn: 0.2287002\ttotal: 2.35s\tremaining: 2.84s\n",
      "453:\tlearn: 0.2284009\ttotal: 2.35s\tremaining: 2.83s\n",
      "454:\tlearn: 0.2281794\ttotal: 2.36s\tremaining: 2.82s\n",
      "455:\tlearn: 0.2276870\ttotal: 2.36s\tremaining: 2.82s\n",
      "456:\tlearn: 0.2274843\ttotal: 2.36s\tremaining: 2.81s\n",
      "457:\tlearn: 0.2270919\ttotal: 2.37s\tremaining: 2.8s\n",
      "458:\tlearn: 0.2268036\ttotal: 2.37s\tremaining: 2.8s\n",
      "459:\tlearn: 0.2264138\ttotal: 2.38s\tremaining: 2.79s\n",
      "460:\tlearn: 0.2261353\ttotal: 2.38s\tremaining: 2.78s\n",
      "461:\tlearn: 0.2257750\ttotal: 2.38s\tremaining: 2.77s\n",
      "462:\tlearn: 0.2253909\ttotal: 2.38s\tremaining: 2.77s\n",
      "463:\tlearn: 0.2251176\ttotal: 2.39s\tremaining: 2.76s\n",
      "464:\tlearn: 0.2247026\ttotal: 2.39s\tremaining: 2.75s\n",
      "465:\tlearn: 0.2243560\ttotal: 2.4s\tremaining: 2.75s\n",
      "466:\tlearn: 0.2241095\ttotal: 2.4s\tremaining: 2.74s\n",
      "467:\tlearn: 0.2238562\ttotal: 2.4s\tremaining: 2.73s\n",
      "468:\tlearn: 0.2235131\ttotal: 2.41s\tremaining: 2.72s\n",
      "469:\tlearn: 0.2231194\ttotal: 2.41s\tremaining: 2.72s\n",
      "470:\tlearn: 0.2226787\ttotal: 2.41s\tremaining: 2.71s\n",
      "471:\tlearn: 0.2223291\ttotal: 2.42s\tremaining: 2.7s\n",
      "472:\tlearn: 0.2220155\ttotal: 2.42s\tremaining: 2.69s\n",
      "473:\tlearn: 0.2216834\ttotal: 2.42s\tremaining: 2.69s\n",
      "474:\tlearn: 0.2215513\ttotal: 2.42s\tremaining: 2.68s\n",
      "475:\tlearn: 0.2211246\ttotal: 2.43s\tremaining: 2.67s\n",
      "476:\tlearn: 0.2208753\ttotal: 2.43s\tremaining: 2.67s\n",
      "477:\tlearn: 0.2207377\ttotal: 2.43s\tremaining: 2.66s\n",
      "478:\tlearn: 0.2204927\ttotal: 2.44s\tremaining: 2.65s\n",
      "479:\tlearn: 0.2202489\ttotal: 2.44s\tremaining: 2.65s\n",
      "480:\tlearn: 0.2197857\ttotal: 2.45s\tremaining: 2.64s\n",
      "481:\tlearn: 0.2194912\ttotal: 2.45s\tremaining: 2.63s\n",
      "482:\tlearn: 0.2191976\ttotal: 2.46s\tremaining: 2.63s\n",
      "483:\tlearn: 0.2188128\ttotal: 2.46s\tremaining: 2.62s\n",
      "484:\tlearn: 0.2185237\ttotal: 2.46s\tremaining: 2.62s\n",
      "485:\tlearn: 0.2181273\ttotal: 2.47s\tremaining: 2.61s\n",
      "486:\tlearn: 0.2178720\ttotal: 2.47s\tremaining: 2.6s\n",
      "487:\tlearn: 0.2175631\ttotal: 2.48s\tremaining: 2.6s\n",
      "488:\tlearn: 0.2172148\ttotal: 2.48s\tremaining: 2.59s\n",
      "489:\tlearn: 0.2168797\ttotal: 2.48s\tremaining: 2.59s\n",
      "490:\tlearn: 0.2164927\ttotal: 2.49s\tremaining: 2.58s\n",
      "491:\tlearn: 0.2161942\ttotal: 2.49s\tremaining: 2.58s\n",
      "492:\tlearn: 0.2158275\ttotal: 2.5s\tremaining: 2.57s\n",
      "493:\tlearn: 0.2156217\ttotal: 2.5s\tremaining: 2.56s\n",
      "494:\tlearn: 0.2153514\ttotal: 2.5s\tremaining: 2.56s\n",
      "495:\tlearn: 0.2150670\ttotal: 2.51s\tremaining: 2.55s\n",
      "496:\tlearn: 0.2146746\ttotal: 2.51s\tremaining: 2.54s\n",
      "497:\tlearn: 0.2142981\ttotal: 2.52s\tremaining: 2.54s\n",
      "498:\tlearn: 0.2140363\ttotal: 2.52s\tremaining: 2.53s\n",
      "499:\tlearn: 0.2136938\ttotal: 2.52s\tremaining: 2.52s\n",
      "500:\tlearn: 0.2133613\ttotal: 2.53s\tremaining: 2.52s\n",
      "501:\tlearn: 0.2131402\ttotal: 2.53s\tremaining: 2.51s\n",
      "502:\tlearn: 0.2128062\ttotal: 2.54s\tremaining: 2.5s\n",
      "503:\tlearn: 0.2124270\ttotal: 2.54s\tremaining: 2.5s\n",
      "504:\tlearn: 0.2120968\ttotal: 2.54s\tremaining: 2.49s\n",
      "505:\tlearn: 0.2118408\ttotal: 2.54s\tremaining: 2.48s\n",
      "506:\tlearn: 0.2116288\ttotal: 2.55s\tremaining: 2.48s\n",
      "507:\tlearn: 0.2115021\ttotal: 2.55s\tremaining: 2.47s\n",
      "508:\tlearn: 0.2111448\ttotal: 2.55s\tremaining: 2.46s\n",
      "509:\tlearn: 0.2108221\ttotal: 2.56s\tremaining: 2.46s\n",
      "510:\tlearn: 0.2107120\ttotal: 2.56s\tremaining: 2.45s\n",
      "511:\tlearn: 0.2103467\ttotal: 2.56s\tremaining: 2.44s\n",
      "512:\tlearn: 0.2099786\ttotal: 2.57s\tremaining: 2.44s\n",
      "513:\tlearn: 0.2097089\ttotal: 2.57s\tremaining: 2.43s\n",
      "514:\tlearn: 0.2093909\ttotal: 2.57s\tremaining: 2.42s\n",
      "515:\tlearn: 0.2092557\ttotal: 2.58s\tremaining: 2.42s\n",
      "516:\tlearn: 0.2089788\ttotal: 2.58s\tremaining: 2.41s\n",
      "517:\tlearn: 0.2085910\ttotal: 2.58s\tremaining: 2.4s\n",
      "518:\tlearn: 0.2083026\ttotal: 2.59s\tremaining: 2.4s\n",
      "519:\tlearn: 0.2080120\ttotal: 2.59s\tremaining: 2.39s\n",
      "520:\tlearn: 0.2076503\ttotal: 2.6s\tremaining: 2.38s\n",
      "521:\tlearn: 0.2073816\ttotal: 2.6s\tremaining: 2.38s\n",
      "522:\tlearn: 0.2071189\ttotal: 2.6s\tremaining: 2.37s\n",
      "523:\tlearn: 0.2068297\ttotal: 2.61s\tremaining: 2.37s\n",
      "524:\tlearn: 0.2065510\ttotal: 2.61s\tremaining: 2.36s\n",
      "525:\tlearn: 0.2063013\ttotal: 2.61s\tremaining: 2.35s\n"
     ]
    },
    {
     "name": "stdout",
     "output_type": "stream",
     "text": [
      "526:\tlearn: 0.2060081\ttotal: 2.62s\tremaining: 2.35s\n",
      "527:\tlearn: 0.2056063\ttotal: 2.62s\tremaining: 2.35s\n",
      "528:\tlearn: 0.2053269\ttotal: 2.63s\tremaining: 2.34s\n",
      "529:\tlearn: 0.2052917\ttotal: 2.63s\tremaining: 2.33s\n",
      "530:\tlearn: 0.2050920\ttotal: 2.64s\tremaining: 2.33s\n",
      "531:\tlearn: 0.2048728\ttotal: 2.64s\tremaining: 2.32s\n",
      "532:\tlearn: 0.2046062\ttotal: 2.65s\tremaining: 2.32s\n",
      "533:\tlearn: 0.2045239\ttotal: 2.65s\tremaining: 2.31s\n",
      "534:\tlearn: 0.2041283\ttotal: 2.65s\tremaining: 2.3s\n",
      "535:\tlearn: 0.2038032\ttotal: 2.66s\tremaining: 2.3s\n",
      "536:\tlearn: 0.2037219\ttotal: 2.66s\tremaining: 2.29s\n",
      "537:\tlearn: 0.2034890\ttotal: 2.66s\tremaining: 2.29s\n",
      "538:\tlearn: 0.2032568\ttotal: 2.7s\tremaining: 2.31s\n",
      "539:\tlearn: 0.2030089\ttotal: 2.71s\tremaining: 2.31s\n",
      "540:\tlearn: 0.2027753\ttotal: 2.71s\tremaining: 2.3s\n",
      "541:\tlearn: 0.2024401\ttotal: 2.72s\tremaining: 2.3s\n",
      "542:\tlearn: 0.2020903\ttotal: 2.73s\tremaining: 2.29s\n",
      "543:\tlearn: 0.2018762\ttotal: 2.73s\tremaining: 2.29s\n",
      "544:\tlearn: 0.2015684\ttotal: 2.73s\tremaining: 2.28s\n",
      "545:\tlearn: 0.2013561\ttotal: 2.74s\tremaining: 2.28s\n",
      "546:\tlearn: 0.2010547\ttotal: 2.74s\tremaining: 2.27s\n",
      "547:\tlearn: 0.2008816\ttotal: 2.75s\tremaining: 2.27s\n",
      "548:\tlearn: 0.2006105\ttotal: 2.75s\tremaining: 2.26s\n",
      "549:\tlearn: 0.2004772\ttotal: 2.75s\tremaining: 2.25s\n",
      "550:\tlearn: 0.2002206\ttotal: 2.75s\tremaining: 2.24s\n",
      "551:\tlearn: 0.1999117\ttotal: 2.76s\tremaining: 2.24s\n",
      "552:\tlearn: 0.1995606\ttotal: 2.76s\tremaining: 2.23s\n",
      "553:\tlearn: 0.1992786\ttotal: 2.76s\tremaining: 2.22s\n",
      "554:\tlearn: 0.1990183\ttotal: 2.77s\tremaining: 2.22s\n",
      "555:\tlearn: 0.1986125\ttotal: 2.77s\tremaining: 2.21s\n",
      "556:\tlearn: 0.1985765\ttotal: 2.77s\tremaining: 2.2s\n",
      "557:\tlearn: 0.1983458\ttotal: 2.77s\tremaining: 2.2s\n",
      "558:\tlearn: 0.1980420\ttotal: 2.78s\tremaining: 2.19s\n",
      "559:\tlearn: 0.1978475\ttotal: 2.78s\tremaining: 2.18s\n",
      "560:\tlearn: 0.1976374\ttotal: 2.78s\tremaining: 2.18s\n",
      "561:\tlearn: 0.1972532\ttotal: 2.79s\tremaining: 2.17s\n",
      "562:\tlearn: 0.1969120\ttotal: 2.79s\tremaining: 2.17s\n",
      "563:\tlearn: 0.1966422\ttotal: 2.79s\tremaining: 2.16s\n",
      "564:\tlearn: 0.1963338\ttotal: 2.8s\tremaining: 2.15s\n",
      "565:\tlearn: 0.1960943\ttotal: 2.8s\tremaining: 2.15s\n",
      "566:\tlearn: 0.1958757\ttotal: 2.81s\tremaining: 2.14s\n",
      "567:\tlearn: 0.1955941\ttotal: 2.81s\tremaining: 2.14s\n",
      "568:\tlearn: 0.1953447\ttotal: 2.81s\tremaining: 2.13s\n",
      "569:\tlearn: 0.1951688\ttotal: 2.82s\tremaining: 2.13s\n",
      "570:\tlearn: 0.1949170\ttotal: 2.82s\tremaining: 2.12s\n",
      "571:\tlearn: 0.1946896\ttotal: 2.82s\tremaining: 2.11s\n",
      "572:\tlearn: 0.1943977\ttotal: 2.83s\tremaining: 2.11s\n",
      "573:\tlearn: 0.1942107\ttotal: 2.83s\tremaining: 2.1s\n",
      "574:\tlearn: 0.1938477\ttotal: 2.83s\tremaining: 2.09s\n",
      "575:\tlearn: 0.1936005\ttotal: 2.83s\tremaining: 2.09s\n",
      "576:\tlearn: 0.1932386\ttotal: 2.84s\tremaining: 2.08s\n",
      "577:\tlearn: 0.1930967\ttotal: 2.84s\tremaining: 2.08s\n",
      "578:\tlearn: 0.1928666\ttotal: 2.85s\tremaining: 2.07s\n",
      "579:\tlearn: 0.1925033\ttotal: 2.85s\tremaining: 2.06s\n",
      "580:\tlearn: 0.1922368\ttotal: 2.85s\tremaining: 2.06s\n",
      "581:\tlearn: 0.1920687\ttotal: 2.85s\tremaining: 2.05s\n",
      "582:\tlearn: 0.1918520\ttotal: 2.86s\tremaining: 2.04s\n",
      "583:\tlearn: 0.1916684\ttotal: 2.86s\tremaining: 2.04s\n",
      "584:\tlearn: 0.1914403\ttotal: 2.86s\tremaining: 2.03s\n",
      "585:\tlearn: 0.1912290\ttotal: 2.87s\tremaining: 2.02s\n",
      "586:\tlearn: 0.1909974\ttotal: 2.87s\tremaining: 2.02s\n",
      "587:\tlearn: 0.1908288\ttotal: 2.87s\tremaining: 2.01s\n",
      "588:\tlearn: 0.1906551\ttotal: 2.88s\tremaining: 2.01s\n",
      "589:\tlearn: 0.1904621\ttotal: 2.88s\tremaining: 2s\n",
      "590:\tlearn: 0.1901662\ttotal: 2.88s\tremaining: 1.99s\n",
      "591:\tlearn: 0.1899667\ttotal: 2.88s\tremaining: 1.99s\n",
      "592:\tlearn: 0.1897821\ttotal: 2.89s\tremaining: 1.98s\n",
      "593:\tlearn: 0.1894591\ttotal: 2.89s\tremaining: 1.98s\n",
      "594:\tlearn: 0.1892246\ttotal: 2.9s\tremaining: 1.97s\n",
      "595:\tlearn: 0.1889736\ttotal: 2.9s\tremaining: 1.97s\n",
      "596:\tlearn: 0.1888006\ttotal: 2.9s\tremaining: 1.96s\n",
      "597:\tlearn: 0.1885661\ttotal: 2.9s\tremaining: 1.95s\n",
      "598:\tlearn: 0.1883015\ttotal: 2.91s\tremaining: 1.95s\n",
      "599:\tlearn: 0.1879996\ttotal: 2.91s\tremaining: 1.94s\n",
      "600:\tlearn: 0.1877615\ttotal: 2.91s\tremaining: 1.93s\n",
      "601:\tlearn: 0.1875055\ttotal: 2.92s\tremaining: 1.93s\n",
      "602:\tlearn: 0.1872434\ttotal: 2.92s\tremaining: 1.92s\n",
      "603:\tlearn: 0.1869894\ttotal: 2.92s\tremaining: 1.92s\n",
      "604:\tlearn: 0.1866889\ttotal: 2.93s\tremaining: 1.91s\n",
      "605:\tlearn: 0.1864451\ttotal: 2.93s\tremaining: 1.9s\n",
      "606:\tlearn: 0.1861964\ttotal: 2.93s\tremaining: 1.9s\n",
      "607:\tlearn: 0.1859946\ttotal: 2.94s\tremaining: 1.89s\n",
      "608:\tlearn: 0.1857264\ttotal: 2.94s\tremaining: 1.89s\n",
      "609:\tlearn: 0.1855406\ttotal: 2.94s\tremaining: 1.88s\n",
      "610:\tlearn: 0.1852727\ttotal: 2.94s\tremaining: 1.88s\n",
      "611:\tlearn: 0.1851276\ttotal: 2.95s\tremaining: 1.87s\n",
      "612:\tlearn: 0.1849080\ttotal: 2.95s\tremaining: 1.86s\n",
      "613:\tlearn: 0.1845955\ttotal: 2.96s\tremaining: 1.86s\n",
      "614:\tlearn: 0.1845493\ttotal: 2.96s\tremaining: 1.85s\n",
      "615:\tlearn: 0.1843716\ttotal: 2.96s\tremaining: 1.85s\n",
      "616:\tlearn: 0.1840271\ttotal: 2.97s\tremaining: 1.84s\n",
      "617:\tlearn: 0.1836387\ttotal: 2.97s\tremaining: 1.84s\n",
      "618:\tlearn: 0.1834204\ttotal: 2.98s\tremaining: 1.83s\n",
      "619:\tlearn: 0.1831191\ttotal: 2.98s\tremaining: 1.83s\n",
      "620:\tlearn: 0.1829736\ttotal: 2.98s\tremaining: 1.82s\n",
      "621:\tlearn: 0.1826578\ttotal: 2.99s\tremaining: 1.82s\n",
      "622:\tlearn: 0.1825094\ttotal: 2.99s\tremaining: 1.81s\n",
      "623:\tlearn: 0.1822123\ttotal: 3s\tremaining: 1.81s\n",
      "624:\tlearn: 0.1818565\ttotal: 3s\tremaining: 1.8s\n",
      "625:\tlearn: 0.1816666\ttotal: 3s\tremaining: 1.79s\n",
      "626:\tlearn: 0.1814360\ttotal: 3.01s\tremaining: 1.79s\n",
      "627:\tlearn: 0.1813480\ttotal: 3.01s\tremaining: 1.78s\n",
      "628:\tlearn: 0.1811144\ttotal: 3.01s\tremaining: 1.78s\n",
      "629:\tlearn: 0.1810525\ttotal: 3.01s\tremaining: 1.77s\n",
      "630:\tlearn: 0.1808553\ttotal: 3.02s\tremaining: 1.76s\n",
      "631:\tlearn: 0.1807233\ttotal: 3.02s\tremaining: 1.76s\n",
      "632:\tlearn: 0.1804430\ttotal: 3.02s\tremaining: 1.75s\n",
      "633:\tlearn: 0.1801570\ttotal: 3.02s\tremaining: 1.75s\n",
      "634:\tlearn: 0.1799528\ttotal: 3.03s\tremaining: 1.74s\n",
      "635:\tlearn: 0.1797792\ttotal: 3.03s\tremaining: 1.74s\n",
      "636:\tlearn: 0.1796283\ttotal: 3.03s\tremaining: 1.73s\n",
      "637:\tlearn: 0.1794574\ttotal: 3.04s\tremaining: 1.72s\n",
      "638:\tlearn: 0.1792551\ttotal: 3.04s\tremaining: 1.72s\n",
      "639:\tlearn: 0.1790290\ttotal: 3.04s\tremaining: 1.71s\n",
      "640:\tlearn: 0.1788593\ttotal: 3.05s\tremaining: 1.71s\n",
      "641:\tlearn: 0.1786682\ttotal: 3.05s\tremaining: 1.7s\n",
      "642:\tlearn: 0.1784146\ttotal: 3.05s\tremaining: 1.69s\n",
      "643:\tlearn: 0.1782476\ttotal: 3.06s\tremaining: 1.69s\n",
      "644:\tlearn: 0.1779980\ttotal: 3.06s\tremaining: 1.68s\n",
      "645:\tlearn: 0.1778236\ttotal: 3.06s\tremaining: 1.68s\n",
      "646:\tlearn: 0.1776445\ttotal: 3.06s\tremaining: 1.67s\n",
      "647:\tlearn: 0.1775222\ttotal: 3.07s\tremaining: 1.67s\n",
      "648:\tlearn: 0.1772680\ttotal: 3.07s\tremaining: 1.66s\n",
      "649:\tlearn: 0.1770431\ttotal: 3.07s\tremaining: 1.66s\n",
      "650:\tlearn: 0.1768478\ttotal: 3.08s\tremaining: 1.65s\n",
      "651:\tlearn: 0.1766664\ttotal: 3.08s\tremaining: 1.64s\n",
      "652:\tlearn: 0.1764914\ttotal: 3.08s\tremaining: 1.64s\n",
      "653:\tlearn: 0.1762508\ttotal: 3.09s\tremaining: 1.63s\n",
      "654:\tlearn: 0.1760646\ttotal: 3.09s\tremaining: 1.63s\n",
      "655:\tlearn: 0.1760207\ttotal: 3.09s\tremaining: 1.62s\n",
      "656:\tlearn: 0.1758460\ttotal: 3.09s\tremaining: 1.61s\n",
      "657:\tlearn: 0.1754774\ttotal: 3.1s\tremaining: 1.61s\n",
      "658:\tlearn: 0.1753178\ttotal: 3.1s\tremaining: 1.6s\n",
      "659:\tlearn: 0.1751013\ttotal: 3.1s\tremaining: 1.6s\n",
      "660:\tlearn: 0.1749570\ttotal: 3.1s\tremaining: 1.59s\n",
      "661:\tlearn: 0.1748325\ttotal: 3.11s\tremaining: 1.59s\n",
      "662:\tlearn: 0.1748064\ttotal: 3.11s\tremaining: 1.58s\n",
      "663:\tlearn: 0.1745927\ttotal: 3.11s\tremaining: 1.57s\n",
      "664:\tlearn: 0.1745216\ttotal: 3.11s\tremaining: 1.57s\n",
      "665:\tlearn: 0.1743429\ttotal: 3.12s\tremaining: 1.56s\n",
      "666:\tlearn: 0.1741605\ttotal: 3.12s\tremaining: 1.56s\n",
      "667:\tlearn: 0.1739637\ttotal: 3.13s\tremaining: 1.55s\n",
      "668:\tlearn: 0.1737940\ttotal: 3.13s\tremaining: 1.55s\n",
      "669:\tlearn: 0.1735778\ttotal: 3.13s\tremaining: 1.54s\n",
      "670:\tlearn: 0.1734397\ttotal: 3.14s\tremaining: 1.54s\n",
      "671:\tlearn: 0.1733138\ttotal: 3.14s\tremaining: 1.53s\n",
      "672:\tlearn: 0.1730682\ttotal: 3.14s\tremaining: 1.53s\n",
      "673:\tlearn: 0.1728007\ttotal: 3.15s\tremaining: 1.52s\n",
      "674:\tlearn: 0.1725391\ttotal: 3.15s\tremaining: 1.52s\n",
      "675:\tlearn: 0.1723408\ttotal: 3.15s\tremaining: 1.51s\n",
      "676:\tlearn: 0.1721290\ttotal: 3.16s\tremaining: 1.51s\n",
      "677:\tlearn: 0.1719201\ttotal: 3.16s\tremaining: 1.5s\n",
      "678:\tlearn: 0.1717279\ttotal: 3.17s\tremaining: 1.5s\n",
      "679:\tlearn: 0.1714965\ttotal: 3.17s\tremaining: 1.49s\n",
      "680:\tlearn: 0.1712620\ttotal: 3.17s\tremaining: 1.49s\n",
      "681:\tlearn: 0.1709342\ttotal: 3.18s\tremaining: 1.48s\n",
      "682:\tlearn: 0.1707623\ttotal: 3.18s\tremaining: 1.48s\n",
      "683:\tlearn: 0.1706189\ttotal: 3.18s\tremaining: 1.47s\n",
      "684:\tlearn: 0.1703664\ttotal: 3.19s\tremaining: 1.47s\n",
      "685:\tlearn: 0.1701815\ttotal: 3.19s\tremaining: 1.46s\n",
      "686:\tlearn: 0.1698842\ttotal: 3.19s\tremaining: 1.46s\n",
      "687:\tlearn: 0.1697773\ttotal: 3.19s\tremaining: 1.45s\n",
      "688:\tlearn: 0.1695211\ttotal: 3.2s\tremaining: 1.44s\n",
      "689:\tlearn: 0.1693419\ttotal: 3.2s\tremaining: 1.44s\n",
      "690:\tlearn: 0.1691839\ttotal: 3.21s\tremaining: 1.43s\n",
      "691:\tlearn: 0.1688966\ttotal: 3.21s\tremaining: 1.43s\n",
      "692:\tlearn: 0.1686944\ttotal: 3.21s\tremaining: 1.42s\n",
      "693:\tlearn: 0.1684940\ttotal: 3.21s\tremaining: 1.42s\n",
      "694:\tlearn: 0.1683299\ttotal: 3.22s\tremaining: 1.41s\n",
      "695:\tlearn: 0.1680874\ttotal: 3.22s\tremaining: 1.41s\n",
      "696:\tlearn: 0.1678202\ttotal: 3.22s\tremaining: 1.4s\n",
      "697:\tlearn: 0.1676467\ttotal: 3.22s\tremaining: 1.39s\n",
      "698:\tlearn: 0.1674569\ttotal: 3.23s\tremaining: 1.39s\n",
      "699:\tlearn: 0.1672999\ttotal: 3.23s\tremaining: 1.38s\n",
      "700:\tlearn: 0.1671012\ttotal: 3.23s\tremaining: 1.38s\n",
      "701:\tlearn: 0.1670540\ttotal: 3.23s\tremaining: 1.37s\n",
      "702:\tlearn: 0.1668720\ttotal: 3.24s\tremaining: 1.37s\n",
      "703:\tlearn: 0.1666895\ttotal: 3.24s\tremaining: 1.36s\n",
      "704:\tlearn: 0.1664345\ttotal: 3.24s\tremaining: 1.36s\n",
      "705:\tlearn: 0.1661999\ttotal: 3.25s\tremaining: 1.35s\n",
      "706:\tlearn: 0.1658673\ttotal: 3.25s\tremaining: 1.35s\n",
      "707:\tlearn: 0.1656932\ttotal: 3.25s\tremaining: 1.34s\n",
      "708:\tlearn: 0.1654982\ttotal: 3.25s\tremaining: 1.33s\n",
      "709:\tlearn: 0.1654081\ttotal: 3.26s\tremaining: 1.33s\n",
      "710:\tlearn: 0.1652055\ttotal: 3.26s\tremaining: 1.32s\n",
      "711:\tlearn: 0.1650056\ttotal: 3.26s\tremaining: 1.32s\n",
      "712:\tlearn: 0.1648941\ttotal: 3.27s\tremaining: 1.31s\n",
      "713:\tlearn: 0.1645696\ttotal: 3.27s\tremaining: 1.31s\n",
      "714:\tlearn: 0.1644375\ttotal: 3.27s\tremaining: 1.3s\n",
      "715:\tlearn: 0.1642336\ttotal: 3.27s\tremaining: 1.3s\n",
      "716:\tlearn: 0.1640882\ttotal: 3.28s\tremaining: 1.29s\n",
      "717:\tlearn: 0.1639934\ttotal: 3.28s\tremaining: 1.29s\n",
      "718:\tlearn: 0.1638012\ttotal: 3.28s\tremaining: 1.28s\n",
      "719:\tlearn: 0.1636507\ttotal: 3.29s\tremaining: 1.28s\n",
      "720:\tlearn: 0.1635034\ttotal: 3.29s\tremaining: 1.27s\n"
     ]
    },
    {
     "name": "stdout",
     "output_type": "stream",
     "text": [
      "721:\tlearn: 0.1633618\ttotal: 3.29s\tremaining: 1.27s\n",
      "722:\tlearn: 0.1632614\ttotal: 3.29s\tremaining: 1.26s\n",
      "723:\tlearn: 0.1630411\ttotal: 3.3s\tremaining: 1.26s\n",
      "724:\tlearn: 0.1628447\ttotal: 3.3s\tremaining: 1.25s\n",
      "725:\tlearn: 0.1627746\ttotal: 3.3s\tremaining: 1.25s\n",
      "726:\tlearn: 0.1625608\ttotal: 3.31s\tremaining: 1.24s\n",
      "727:\tlearn: 0.1623444\ttotal: 3.31s\tremaining: 1.24s\n",
      "728:\tlearn: 0.1621117\ttotal: 3.31s\tremaining: 1.23s\n",
      "729:\tlearn: 0.1618882\ttotal: 3.32s\tremaining: 1.23s\n",
      "730:\tlearn: 0.1617614\ttotal: 3.32s\tremaining: 1.22s\n",
      "731:\tlearn: 0.1615453\ttotal: 3.32s\tremaining: 1.22s\n",
      "732:\tlearn: 0.1613662\ttotal: 3.33s\tremaining: 1.21s\n",
      "733:\tlearn: 0.1611448\ttotal: 3.33s\tremaining: 1.21s\n",
      "734:\tlearn: 0.1609487\ttotal: 3.33s\tremaining: 1.2s\n",
      "735:\tlearn: 0.1607784\ttotal: 3.34s\tremaining: 1.2s\n",
      "736:\tlearn: 0.1605259\ttotal: 3.34s\tremaining: 1.19s\n",
      "737:\tlearn: 0.1602525\ttotal: 3.35s\tremaining: 1.19s\n",
      "738:\tlearn: 0.1601406\ttotal: 3.35s\tremaining: 1.18s\n",
      "739:\tlearn: 0.1600112\ttotal: 3.35s\tremaining: 1.18s\n",
      "740:\tlearn: 0.1597634\ttotal: 3.36s\tremaining: 1.17s\n",
      "741:\tlearn: 0.1596446\ttotal: 3.36s\tremaining: 1.17s\n",
      "742:\tlearn: 0.1594928\ttotal: 3.36s\tremaining: 1.16s\n",
      "743:\tlearn: 0.1592847\ttotal: 3.37s\tremaining: 1.16s\n",
      "744:\tlearn: 0.1590883\ttotal: 3.37s\tremaining: 1.15s\n",
      "745:\tlearn: 0.1589317\ttotal: 3.37s\tremaining: 1.15s\n",
      "746:\tlearn: 0.1587388\ttotal: 3.37s\tremaining: 1.14s\n",
      "747:\tlearn: 0.1585491\ttotal: 3.38s\tremaining: 1.14s\n",
      "748:\tlearn: 0.1583903\ttotal: 3.38s\tremaining: 1.13s\n",
      "749:\tlearn: 0.1582240\ttotal: 3.38s\tremaining: 1.13s\n",
      "750:\tlearn: 0.1580327\ttotal: 3.38s\tremaining: 1.12s\n",
      "751:\tlearn: 0.1578261\ttotal: 3.39s\tremaining: 1.12s\n",
      "752:\tlearn: 0.1576539\ttotal: 3.39s\tremaining: 1.11s\n",
      "753:\tlearn: 0.1574509\ttotal: 3.39s\tremaining: 1.11s\n",
      "754:\tlearn: 0.1572439\ttotal: 3.4s\tremaining: 1.1s\n",
      "755:\tlearn: 0.1571513\ttotal: 3.4s\tremaining: 1.1s\n",
      "756:\tlearn: 0.1569982\ttotal: 3.4s\tremaining: 1.09s\n",
      "757:\tlearn: 0.1568312\ttotal: 3.4s\tremaining: 1.09s\n",
      "758:\tlearn: 0.1567409\ttotal: 3.4s\tremaining: 1.08s\n",
      "759:\tlearn: 0.1565252\ttotal: 3.41s\tremaining: 1.08s\n",
      "760:\tlearn: 0.1563387\ttotal: 3.41s\tremaining: 1.07s\n",
      "761:\tlearn: 0.1561354\ttotal: 3.41s\tremaining: 1.07s\n",
      "762:\tlearn: 0.1560079\ttotal: 3.42s\tremaining: 1.06s\n",
      "763:\tlearn: 0.1557901\ttotal: 3.42s\tremaining: 1.06s\n",
      "764:\tlearn: 0.1556138\ttotal: 3.42s\tremaining: 1.05s\n",
      "765:\tlearn: 0.1554097\ttotal: 3.42s\tremaining: 1.05s\n",
      "766:\tlearn: 0.1551679\ttotal: 3.43s\tremaining: 1.04s\n",
      "767:\tlearn: 0.1550102\ttotal: 3.43s\tremaining: 1.04s\n",
      "768:\tlearn: 0.1548545\ttotal: 3.44s\tremaining: 1.03s\n",
      "769:\tlearn: 0.1547539\ttotal: 3.44s\tremaining: 1.03s\n",
      "770:\tlearn: 0.1546363\ttotal: 3.44s\tremaining: 1.02s\n",
      "771:\tlearn: 0.1545428\ttotal: 3.45s\tremaining: 1.02s\n",
      "772:\tlearn: 0.1544093\ttotal: 3.45s\tremaining: 1.01s\n",
      "773:\tlearn: 0.1542654\ttotal: 3.45s\tremaining: 1.01s\n",
      "774:\tlearn: 0.1541164\ttotal: 3.46s\tremaining: 1s\n",
      "775:\tlearn: 0.1539026\ttotal: 3.46s\tremaining: 1000ms\n",
      "776:\tlearn: 0.1536777\ttotal: 3.46s\tremaining: 995ms\n",
      "777:\tlearn: 0.1534345\ttotal: 3.47s\tremaining: 990ms\n",
      "778:\tlearn: 0.1531974\ttotal: 3.47s\tremaining: 985ms\n",
      "779:\tlearn: 0.1528955\ttotal: 3.47s\tremaining: 980ms\n",
      "780:\tlearn: 0.1526434\ttotal: 3.48s\tremaining: 975ms\n",
      "781:\tlearn: 0.1524714\ttotal: 3.48s\tremaining: 970ms\n",
      "782:\tlearn: 0.1522377\ttotal: 3.48s\tremaining: 966ms\n",
      "783:\tlearn: 0.1520122\ttotal: 3.49s\tremaining: 961ms\n",
      "784:\tlearn: 0.1518312\ttotal: 3.49s\tremaining: 956ms\n",
      "785:\tlearn: 0.1517027\ttotal: 3.49s\tremaining: 951ms\n",
      "786:\tlearn: 0.1516402\ttotal: 3.5s\tremaining: 946ms\n",
      "787:\tlearn: 0.1515409\ttotal: 3.5s\tremaining: 942ms\n",
      "788:\tlearn: 0.1513682\ttotal: 3.5s\tremaining: 937ms\n",
      "789:\tlearn: 0.1511798\ttotal: 3.5s\tremaining: 932ms\n",
      "790:\tlearn: 0.1509287\ttotal: 3.51s\tremaining: 927ms\n",
      "791:\tlearn: 0.1508267\ttotal: 3.51s\tremaining: 922ms\n",
      "792:\tlearn: 0.1506445\ttotal: 3.51s\tremaining: 917ms\n",
      "793:\tlearn: 0.1505315\ttotal: 3.52s\tremaining: 912ms\n",
      "794:\tlearn: 0.1502501\ttotal: 3.52s\tremaining: 908ms\n",
      "795:\tlearn: 0.1499635\ttotal: 3.52s\tremaining: 903ms\n",
      "796:\tlearn: 0.1498636\ttotal: 3.52s\tremaining: 898ms\n",
      "797:\tlearn: 0.1496318\ttotal: 3.53s\tremaining: 893ms\n",
      "798:\tlearn: 0.1494760\ttotal: 3.53s\tremaining: 888ms\n",
      "799:\tlearn: 0.1493086\ttotal: 3.53s\tremaining: 883ms\n",
      "800:\tlearn: 0.1491350\ttotal: 3.54s\tremaining: 878ms\n",
      "801:\tlearn: 0.1490130\ttotal: 3.54s\tremaining: 873ms\n",
      "802:\tlearn: 0.1488987\ttotal: 3.54s\tremaining: 869ms\n",
      "803:\tlearn: 0.1487329\ttotal: 3.54s\tremaining: 864ms\n",
      "804:\tlearn: 0.1485965\ttotal: 3.54s\tremaining: 859ms\n",
      "805:\tlearn: 0.1484786\ttotal: 3.55s\tremaining: 854ms\n",
      "806:\tlearn: 0.1482981\ttotal: 3.55s\tremaining: 849ms\n",
      "807:\tlearn: 0.1480458\ttotal: 3.55s\tremaining: 844ms\n",
      "808:\tlearn: 0.1478565\ttotal: 3.56s\tremaining: 840ms\n",
      "809:\tlearn: 0.1476189\ttotal: 3.56s\tremaining: 835ms\n",
      "810:\tlearn: 0.1474642\ttotal: 3.56s\tremaining: 831ms\n",
      "811:\tlearn: 0.1472770\ttotal: 3.57s\tremaining: 826ms\n",
      "812:\tlearn: 0.1470366\ttotal: 3.57s\tremaining: 821ms\n",
      "813:\tlearn: 0.1468358\ttotal: 3.57s\tremaining: 816ms\n",
      "814:\tlearn: 0.1467653\ttotal: 3.57s\tremaining: 811ms\n",
      "815:\tlearn: 0.1466581\ttotal: 3.58s\tremaining: 807ms\n",
      "816:\tlearn: 0.1464648\ttotal: 3.58s\tremaining: 802ms\n",
      "817:\tlearn: 0.1462824\ttotal: 3.58s\tremaining: 797ms\n",
      "818:\tlearn: 0.1460495\ttotal: 3.58s\tremaining: 792ms\n",
      "819:\tlearn: 0.1458835\ttotal: 3.59s\tremaining: 788ms\n",
      "820:\tlearn: 0.1456026\ttotal: 3.59s\tremaining: 783ms\n",
      "821:\tlearn: 0.1453402\ttotal: 3.59s\tremaining: 778ms\n",
      "822:\tlearn: 0.1451188\ttotal: 3.6s\tremaining: 773ms\n",
      "823:\tlearn: 0.1450282\ttotal: 3.6s\tremaining: 769ms\n",
      "824:\tlearn: 0.1448987\ttotal: 3.6s\tremaining: 764ms\n",
      "825:\tlearn: 0.1447668\ttotal: 3.6s\tremaining: 759ms\n",
      "826:\tlearn: 0.1445777\ttotal: 3.61s\tremaining: 755ms\n",
      "827:\tlearn: 0.1444071\ttotal: 3.61s\tremaining: 750ms\n",
      "828:\tlearn: 0.1443367\ttotal: 3.62s\tremaining: 746ms\n",
      "829:\tlearn: 0.1441378\ttotal: 3.62s\tremaining: 741ms\n",
      "830:\tlearn: 0.1440103\ttotal: 3.62s\tremaining: 737ms\n",
      "831:\tlearn: 0.1438481\ttotal: 3.63s\tremaining: 732ms\n",
      "832:\tlearn: 0.1437617\ttotal: 3.63s\tremaining: 728ms\n",
      "833:\tlearn: 0.1435387\ttotal: 3.63s\tremaining: 723ms\n",
      "834:\tlearn: 0.1433521\ttotal: 3.64s\tremaining: 719ms\n",
      "835:\tlearn: 0.1432456\ttotal: 3.64s\tremaining: 714ms\n",
      "836:\tlearn: 0.1431160\ttotal: 3.64s\tremaining: 710ms\n",
      "837:\tlearn: 0.1428740\ttotal: 3.65s\tremaining: 705ms\n",
      "838:\tlearn: 0.1426953\ttotal: 3.65s\tremaining: 701ms\n",
      "839:\tlearn: 0.1424675\ttotal: 3.65s\tremaining: 696ms\n",
      "840:\tlearn: 0.1424321\ttotal: 3.66s\tremaining: 691ms\n",
      "841:\tlearn: 0.1423130\ttotal: 3.66s\tremaining: 687ms\n",
      "842:\tlearn: 0.1421668\ttotal: 3.66s\tremaining: 682ms\n",
      "843:\tlearn: 0.1420118\ttotal: 3.67s\tremaining: 677ms\n",
      "844:\tlearn: 0.1419877\ttotal: 3.67s\tremaining: 673ms\n",
      "845:\tlearn: 0.1418382\ttotal: 3.67s\tremaining: 668ms\n",
      "846:\tlearn: 0.1416567\ttotal: 3.67s\tremaining: 663ms\n",
      "847:\tlearn: 0.1415390\ttotal: 3.67s\tremaining: 659ms\n",
      "848:\tlearn: 0.1413427\ttotal: 3.68s\tremaining: 654ms\n",
      "849:\tlearn: 0.1412770\ttotal: 3.68s\tremaining: 649ms\n",
      "850:\tlearn: 0.1411587\ttotal: 3.68s\tremaining: 645ms\n",
      "851:\tlearn: 0.1409908\ttotal: 3.69s\tremaining: 640ms\n",
      "852:\tlearn: 0.1408127\ttotal: 3.69s\tremaining: 636ms\n",
      "853:\tlearn: 0.1407132\ttotal: 3.69s\tremaining: 631ms\n",
      "854:\tlearn: 0.1405058\ttotal: 3.69s\tremaining: 626ms\n",
      "855:\tlearn: 0.1403173\ttotal: 3.69s\tremaining: 622ms\n",
      "856:\tlearn: 0.1402534\ttotal: 3.7s\tremaining: 617ms\n",
      "857:\tlearn: 0.1400805\ttotal: 3.7s\tremaining: 612ms\n",
      "858:\tlearn: 0.1398511\ttotal: 3.7s\tremaining: 608ms\n",
      "859:\tlearn: 0.1396957\ttotal: 3.71s\tremaining: 603ms\n",
      "860:\tlearn: 0.1394993\ttotal: 3.71s\tremaining: 599ms\n",
      "861:\tlearn: 0.1392619\ttotal: 3.71s\tremaining: 594ms\n",
      "862:\tlearn: 0.1391091\ttotal: 3.71s\tremaining: 590ms\n",
      "863:\tlearn: 0.1388850\ttotal: 3.72s\tremaining: 585ms\n",
      "864:\tlearn: 0.1388524\ttotal: 3.72s\tremaining: 581ms\n",
      "865:\tlearn: 0.1387027\ttotal: 3.72s\tremaining: 576ms\n",
      "866:\tlearn: 0.1384799\ttotal: 3.73s\tremaining: 571ms\n",
      "867:\tlearn: 0.1383424\ttotal: 3.73s\tremaining: 567ms\n",
      "868:\tlearn: 0.1382346\ttotal: 3.73s\tremaining: 562ms\n",
      "869:\tlearn: 0.1382006\ttotal: 3.73s\tremaining: 558ms\n",
      "870:\tlearn: 0.1380467\ttotal: 3.73s\tremaining: 553ms\n",
      "871:\tlearn: 0.1378954\ttotal: 3.74s\tremaining: 549ms\n",
      "872:\tlearn: 0.1376084\ttotal: 3.74s\tremaining: 544ms\n",
      "873:\tlearn: 0.1374717\ttotal: 3.74s\tremaining: 539ms\n",
      "874:\tlearn: 0.1374318\ttotal: 3.74s\tremaining: 535ms\n",
      "875:\tlearn: 0.1372883\ttotal: 3.75s\tremaining: 530ms\n",
      "876:\tlearn: 0.1371062\ttotal: 3.75s\tremaining: 526ms\n",
      "877:\tlearn: 0.1370080\ttotal: 3.75s\tremaining: 521ms\n",
      "878:\tlearn: 0.1368639\ttotal: 3.75s\tremaining: 517ms\n",
      "879:\tlearn: 0.1368014\ttotal: 3.75s\tremaining: 512ms\n",
      "880:\tlearn: 0.1365757\ttotal: 3.76s\tremaining: 508ms\n",
      "881:\tlearn: 0.1364169\ttotal: 3.76s\tremaining: 503ms\n",
      "882:\tlearn: 0.1362810\ttotal: 3.76s\tremaining: 499ms\n",
      "883:\tlearn: 0.1360842\ttotal: 3.77s\tremaining: 494ms\n",
      "884:\tlearn: 0.1359631\ttotal: 3.77s\tremaining: 490ms\n",
      "885:\tlearn: 0.1358057\ttotal: 3.77s\tremaining: 485ms\n",
      "886:\tlearn: 0.1356877\ttotal: 3.77s\tremaining: 481ms\n"
     ]
    },
    {
     "name": "stdout",
     "output_type": "stream",
     "text": [
      "887:\tlearn: 0.1355930\ttotal: 3.78s\tremaining: 477ms\n",
      "888:\tlearn: 0.1353909\ttotal: 3.78s\tremaining: 472ms\n",
      "889:\tlearn: 0.1351796\ttotal: 3.79s\tremaining: 468ms\n",
      "890:\tlearn: 0.1351081\ttotal: 3.79s\tremaining: 464ms\n",
      "891:\tlearn: 0.1349935\ttotal: 3.79s\tremaining: 459ms\n",
      "892:\tlearn: 0.1348413\ttotal: 3.79s\tremaining: 455ms\n",
      "893:\tlearn: 0.1347127\ttotal: 3.8s\tremaining: 450ms\n",
      "894:\tlearn: 0.1345129\ttotal: 3.8s\tremaining: 446ms\n",
      "895:\tlearn: 0.1343539\ttotal: 3.81s\tremaining: 442ms\n",
      "896:\tlearn: 0.1341975\ttotal: 3.81s\tremaining: 437ms\n",
      "897:\tlearn: 0.1340171\ttotal: 3.81s\tremaining: 433ms\n",
      "898:\tlearn: 0.1338744\ttotal: 3.81s\tremaining: 429ms\n",
      "899:\tlearn: 0.1337155\ttotal: 3.82s\tremaining: 424ms\n",
      "900:\tlearn: 0.1336387\ttotal: 3.82s\tremaining: 420ms\n",
      "901:\tlearn: 0.1335521\ttotal: 3.83s\tremaining: 416ms\n",
      "902:\tlearn: 0.1334438\ttotal: 3.83s\tremaining: 411ms\n",
      "903:\tlearn: 0.1333111\ttotal: 3.83s\tremaining: 407ms\n",
      "904:\tlearn: 0.1331536\ttotal: 3.83s\tremaining: 402ms\n",
      "905:\tlearn: 0.1330330\ttotal: 3.83s\tremaining: 398ms\n",
      "906:\tlearn: 0.1328602\ttotal: 3.84s\tremaining: 394ms\n",
      "907:\tlearn: 0.1327107\ttotal: 3.84s\tremaining: 389ms\n",
      "908:\tlearn: 0.1325200\ttotal: 3.84s\tremaining: 385ms\n",
      "909:\tlearn: 0.1324235\ttotal: 3.85s\tremaining: 380ms\n",
      "910:\tlearn: 0.1323563\ttotal: 3.85s\tremaining: 376ms\n",
      "911:\tlearn: 0.1321657\ttotal: 3.85s\tremaining: 372ms\n",
      "912:\tlearn: 0.1320741\ttotal: 3.85s\tremaining: 367ms\n",
      "913:\tlearn: 0.1319353\ttotal: 3.86s\tremaining: 363ms\n",
      "914:\tlearn: 0.1318333\ttotal: 3.86s\tremaining: 359ms\n",
      "915:\tlearn: 0.1315622\ttotal: 3.86s\tremaining: 354ms\n",
      "916:\tlearn: 0.1314068\ttotal: 3.87s\tremaining: 350ms\n",
      "917:\tlearn: 0.1312527\ttotal: 3.87s\tremaining: 346ms\n",
      "918:\tlearn: 0.1311392\ttotal: 3.87s\tremaining: 341ms\n",
      "919:\tlearn: 0.1309219\ttotal: 3.87s\tremaining: 337ms\n",
      "920:\tlearn: 0.1307588\ttotal: 3.88s\tremaining: 332ms\n",
      "921:\tlearn: 0.1305664\ttotal: 3.88s\tremaining: 328ms\n",
      "922:\tlearn: 0.1305109\ttotal: 3.88s\tremaining: 324ms\n",
      "923:\tlearn: 0.1303951\ttotal: 3.88s\tremaining: 320ms\n",
      "924:\tlearn: 0.1302391\ttotal: 3.89s\tremaining: 315ms\n",
      "925:\tlearn: 0.1300754\ttotal: 3.89s\tremaining: 311ms\n",
      "926:\tlearn: 0.1298931\ttotal: 3.89s\tremaining: 307ms\n",
      "927:\tlearn: 0.1297601\ttotal: 3.89s\tremaining: 302ms\n",
      "928:\tlearn: 0.1295680\ttotal: 3.9s\tremaining: 298ms\n",
      "929:\tlearn: 0.1294437\ttotal: 3.9s\tremaining: 294ms\n",
      "930:\tlearn: 0.1292491\ttotal: 3.9s\tremaining: 289ms\n",
      "931:\tlearn: 0.1291580\ttotal: 3.9s\tremaining: 285ms\n",
      "932:\tlearn: 0.1289842\ttotal: 3.91s\tremaining: 281ms\n",
      "933:\tlearn: 0.1288242\ttotal: 3.91s\tremaining: 276ms\n",
      "934:\tlearn: 0.1286981\ttotal: 3.91s\tremaining: 272ms\n",
      "935:\tlearn: 0.1285078\ttotal: 3.91s\tremaining: 268ms\n",
      "936:\tlearn: 0.1283301\ttotal: 3.92s\tremaining: 263ms\n",
      "937:\tlearn: 0.1282501\ttotal: 3.92s\tremaining: 259ms\n",
      "938:\tlearn: 0.1280681\ttotal: 3.92s\tremaining: 255ms\n",
      "939:\tlearn: 0.1278188\ttotal: 3.92s\tremaining: 251ms\n",
      "940:\tlearn: 0.1277060\ttotal: 3.93s\tremaining: 246ms\n",
      "941:\tlearn: 0.1276624\ttotal: 3.93s\tremaining: 242ms\n",
      "942:\tlearn: 0.1275647\ttotal: 3.93s\tremaining: 238ms\n",
      "943:\tlearn: 0.1274058\ttotal: 3.94s\tremaining: 233ms\n",
      "944:\tlearn: 0.1272024\ttotal: 3.94s\tremaining: 229ms\n",
      "945:\tlearn: 0.1270016\ttotal: 3.94s\tremaining: 225ms\n",
      "946:\tlearn: 0.1268807\ttotal: 3.94s\tremaining: 221ms\n",
      "947:\tlearn: 0.1268061\ttotal: 3.95s\tremaining: 217ms\n",
      "948:\tlearn: 0.1266907\ttotal: 3.95s\tremaining: 212ms\n",
      "949:\tlearn: 0.1265844\ttotal: 3.95s\tremaining: 208ms\n",
      "950:\tlearn: 0.1264473\ttotal: 3.95s\tremaining: 204ms\n",
      "951:\tlearn: 0.1262851\ttotal: 3.96s\tremaining: 200ms\n",
      "952:\tlearn: 0.1262612\ttotal: 3.96s\tremaining: 195ms\n",
      "953:\tlearn: 0.1261357\ttotal: 3.96s\tremaining: 191ms\n",
      "954:\tlearn: 0.1259422\ttotal: 3.96s\tremaining: 187ms\n",
      "955:\tlearn: 0.1258703\ttotal: 3.97s\tremaining: 183ms\n",
      "956:\tlearn: 0.1257096\ttotal: 3.97s\tremaining: 178ms\n",
      "957:\tlearn: 0.1255249\ttotal: 3.97s\tremaining: 174ms\n",
      "958:\tlearn: 0.1253582\ttotal: 3.98s\tremaining: 170ms\n",
      "959:\tlearn: 0.1252629\ttotal: 3.98s\tremaining: 166ms\n",
      "960:\tlearn: 0.1252182\ttotal: 3.98s\tremaining: 162ms\n",
      "961:\tlearn: 0.1250630\ttotal: 3.99s\tremaining: 157ms\n",
      "962:\tlearn: 0.1250311\ttotal: 3.99s\tremaining: 153ms\n",
      "963:\tlearn: 0.1248717\ttotal: 3.99s\tremaining: 149ms\n",
      "964:\tlearn: 0.1247344\ttotal: 4s\tremaining: 145ms\n",
      "965:\tlearn: 0.1246029\ttotal: 4s\tremaining: 141ms\n",
      "966:\tlearn: 0.1244389\ttotal: 4s\tremaining: 137ms\n",
      "967:\tlearn: 0.1243898\ttotal: 4s\tremaining: 132ms\n",
      "968:\tlearn: 0.1241923\ttotal: 4.01s\tremaining: 128ms\n",
      "969:\tlearn: 0.1240254\ttotal: 4.01s\tremaining: 124ms\n",
      "970:\tlearn: 0.1237766\ttotal: 4.01s\tremaining: 120ms\n",
      "971:\tlearn: 0.1235892\ttotal: 4.02s\tremaining: 116ms\n",
      "972:\tlearn: 0.1234740\ttotal: 4.02s\tremaining: 112ms\n",
      "973:\tlearn: 0.1233651\ttotal: 4.02s\tremaining: 107ms\n",
      "974:\tlearn: 0.1231904\ttotal: 4.02s\tremaining: 103ms\n",
      "975:\tlearn: 0.1230042\ttotal: 4.03s\tremaining: 99ms\n",
      "976:\tlearn: 0.1228369\ttotal: 4.03s\tremaining: 94.8ms\n",
      "977:\tlearn: 0.1227417\ttotal: 4.03s\tremaining: 90.7ms\n",
      "978:\tlearn: 0.1226390\ttotal: 4.03s\tremaining: 86.5ms\n",
      "979:\tlearn: 0.1224964\ttotal: 4.04s\tremaining: 82.4ms\n",
      "980:\tlearn: 0.1224615\ttotal: 4.04s\tremaining: 78.2ms\n",
      "981:\tlearn: 0.1223495\ttotal: 4.04s\tremaining: 74.1ms\n",
      "982:\tlearn: 0.1222177\ttotal: 4.04s\tremaining: 69.9ms\n",
      "983:\tlearn: 0.1221293\ttotal: 4.05s\tremaining: 65.8ms\n",
      "984:\tlearn: 0.1220387\ttotal: 4.05s\tremaining: 61.7ms\n",
      "985:\tlearn: 0.1219187\ttotal: 4.05s\tremaining: 57.5ms\n",
      "986:\tlearn: 0.1217919\ttotal: 4.05s\tremaining: 53.4ms\n",
      "987:\tlearn: 0.1215995\ttotal: 4.06s\tremaining: 49.3ms\n",
      "988:\tlearn: 0.1213943\ttotal: 4.06s\tremaining: 45.1ms\n",
      "989:\tlearn: 0.1212902\ttotal: 4.06s\tremaining: 41ms\n",
      "990:\tlearn: 0.1211667\ttotal: 4.06s\tremaining: 36.9ms\n",
      "991:\tlearn: 0.1210926\ttotal: 4.07s\tremaining: 32.8ms\n",
      "992:\tlearn: 0.1210081\ttotal: 4.07s\tremaining: 28.7ms\n",
      "993:\tlearn: 0.1208374\ttotal: 4.07s\tremaining: 24.6ms\n",
      "994:\tlearn: 0.1207331\ttotal: 4.08s\tremaining: 20.5ms\n",
      "995:\tlearn: 0.1205720\ttotal: 4.08s\tremaining: 16.4ms\n",
      "996:\tlearn: 0.1205028\ttotal: 4.08s\tremaining: 12.3ms\n",
      "997:\tlearn: 0.1203435\ttotal: 4.08s\tremaining: 8.18ms\n",
      "998:\tlearn: 0.1202383\ttotal: 4.08s\tremaining: 4.09ms\n",
      "999:\tlearn: 0.1201124\ttotal: 4.09s\tremaining: 0us\n",
      "<catboost.core.CatBoostClassifier object at 0x000000C3BA8552E8>\n"
     ]
    }
   ],
   "source": [
    "import catboost as cb \n",
    "mcb = cb.CatBoostClassifier()\n",
    "mcb.fit(x_train, y_train)\n",
    "print(mcb)"
   ]
  },
  {
   "cell_type": "code",
   "execution_count": 37,
   "metadata": {},
   "outputs": [
    {
     "name": "stdout",
     "output_type": "stream",
     "text": [
      "Accuracy score: 0.6461538461538462\n"
     ]
    }
   ],
   "source": [
    "y_pred = mcb.predict(x_test)\n",
    "print(f'Accuracy score: {metrics.accuracy_score(y_test,y_pred)}')"
   ]
  },
  {
   "cell_type": "code",
   "execution_count": 38,
   "metadata": {},
   "outputs": [
    {
     "name": "stdout",
     "output_type": "stream",
     "text": [
      "[[ 8 19]\n",
      " [ 4 34]]\n",
      "              precision    recall  f1-score   support\n",
      "\n",
      "           0       0.67      0.30      0.41        27\n",
      "           1       0.64      0.89      0.75        38\n",
      "\n",
      "    accuracy                           0.65        65\n",
      "   macro avg       0.65      0.60      0.58        65\n",
      "weighted avg       0.65      0.65      0.61        65\n",
      "\n"
     ]
    }
   ],
   "source": [
    "print(confusion_matrix(y_test, y_pred))\n",
    "print(classification_report(y_test, y_pred))"
   ]
  },
  {
   "cell_type": "code",
   "execution_count": 39,
   "metadata": {},
   "outputs": [],
   "source": [
    "from sklearn.model_selection import GridSearchCV"
   ]
  },
  {
   "cell_type": "code",
   "execution_count": 40,
   "metadata": {},
   "outputs": [
    {
     "name": "stdout",
     "output_type": "stream",
     "text": [
      "Fitting 5 folds for each of 16 candidates, totalling 80 fits\n",
      "[CV] END .....................................C=0.1, gamma=1; total time=   0.0s\n",
      "[CV] END .....................................C=0.1, gamma=1; total time=   0.0s\n",
      "[CV] END .....................................C=0.1, gamma=1; total time=   0.0s\n",
      "[CV] END .....................................C=0.1, gamma=1; total time=   0.0s\n",
      "[CV] END .....................................C=0.1, gamma=1; total time=   0.0s\n",
      "[CV] END ...................................C=0.1, gamma=0.1; total time=   0.0s\n",
      "[CV] END ...................................C=0.1, gamma=0.1; total time=   0.0s\n",
      "[CV] END ...................................C=0.1, gamma=0.1; total time=   0.0s\n",
      "[CV] END ...................................C=0.1, gamma=0.1; total time=   0.0s\n",
      "[CV] END ...................................C=0.1, gamma=0.1; total time=   0.0s\n",
      "[CV] END ..................................C=0.1, gamma=0.01; total time=   0.0s\n",
      "[CV] END ..................................C=0.1, gamma=0.01; total time=   0.0s\n",
      "[CV] END ..................................C=0.1, gamma=0.01; total time=   0.0s\n",
      "[CV] END ..................................C=0.1, gamma=0.01; total time=   0.0s\n",
      "[CV] END ..................................C=0.1, gamma=0.01; total time=   0.0s\n",
      "[CV] END .................................C=0.1, gamma=0.001; total time=   0.0s\n",
      "[CV] END .................................C=0.1, gamma=0.001; total time=   0.0s\n",
      "[CV] END .................................C=0.1, gamma=0.001; total time=   0.0s\n",
      "[CV] END .................................C=0.1, gamma=0.001; total time=   0.0s\n",
      "[CV] END .................................C=0.1, gamma=0.001; total time=   0.0s\n",
      "[CV] END .......................................C=1, gamma=1; total time=   0.0s\n",
      "[CV] END .......................................C=1, gamma=1; total time=   0.0s\n",
      "[CV] END .......................................C=1, gamma=1; total time=   0.0s\n",
      "[CV] END .......................................C=1, gamma=1; total time=   0.0s\n",
      "[CV] END .......................................C=1, gamma=1; total time=   0.0s\n",
      "[CV] END .....................................C=1, gamma=0.1; total time=   0.0s\n",
      "[CV] END .....................................C=1, gamma=0.1; total time=   0.0s\n",
      "[CV] END .....................................C=1, gamma=0.1; total time=   0.0s\n",
      "[CV] END .....................................C=1, gamma=0.1; total time=   0.0s\n",
      "[CV] END .....................................C=1, gamma=0.1; total time=   0.0s\n",
      "[CV] END ....................................C=1, gamma=0.01; total time=   0.0s\n",
      "[CV] END ....................................C=1, gamma=0.01; total time=   0.0s\n",
      "[CV] END ....................................C=1, gamma=0.01; total time=   0.0s\n",
      "[CV] END ....................................C=1, gamma=0.01; total time=   0.0s\n",
      "[CV] END ....................................C=1, gamma=0.01; total time=   0.0s\n",
      "[CV] END ...................................C=1, gamma=0.001; total time=   0.0s\n",
      "[CV] END ...................................C=1, gamma=0.001; total time=   0.0s\n",
      "[CV] END ...................................C=1, gamma=0.001; total time=   0.0s\n",
      "[CV] END ...................................C=1, gamma=0.001; total time=   0.0s\n",
      "[CV] END ...................................C=1, gamma=0.001; total time=   0.0s\n",
      "[CV] END ......................................C=10, gamma=1; total time=   0.0s\n",
      "[CV] END ......................................C=10, gamma=1; total time=   0.0s\n",
      "[CV] END ......................................C=10, gamma=1; total time=   0.0s\n",
      "[CV] END ......................................C=10, gamma=1; total time=   0.0s\n",
      "[CV] END ......................................C=10, gamma=1; total time=   0.0s\n",
      "[CV] END ....................................C=10, gamma=0.1; total time=   0.0s\n",
      "[CV] END ....................................C=10, gamma=0.1; total time=   0.0s\n",
      "[CV] END ....................................C=10, gamma=0.1; total time=   0.0s\n",
      "[CV] END ....................................C=10, gamma=0.1; total time=   0.0s\n",
      "[CV] END ....................................C=10, gamma=0.1; total time=   0.0s\n",
      "[CV] END ...................................C=10, gamma=0.01; total time=   0.0s\n",
      "[CV] END ...................................C=10, gamma=0.01; total time=   0.0s\n",
      "[CV] END ...................................C=10, gamma=0.01; total time=   0.0s\n",
      "[CV] END ...................................C=10, gamma=0.01; total time=   0.0s\n",
      "[CV] END ...................................C=10, gamma=0.01; total time=   0.0s\n",
      "[CV] END ..................................C=10, gamma=0.001; total time=   0.0s\n",
      "[CV] END ..................................C=10, gamma=0.001; total time=   0.0s\n",
      "[CV] END ..................................C=10, gamma=0.001; total time=   0.0s\n",
      "[CV] END ..................................C=10, gamma=0.001; total time=   0.0s\n",
      "[CV] END ..................................C=10, gamma=0.001; total time=   0.0s\n",
      "[CV] END .....................................C=100, gamma=1; total time=   0.0s\n",
      "[CV] END .....................................C=100, gamma=1; total time=   0.0s\n",
      "[CV] END .....................................C=100, gamma=1; total time=   0.0s\n",
      "[CV] END .....................................C=100, gamma=1; total time=   0.0s\n",
      "[CV] END .....................................C=100, gamma=1; total time=   0.0s\n",
      "[CV] END ...................................C=100, gamma=0.1; total time=   0.0s\n",
      "[CV] END ...................................C=100, gamma=0.1; total time=   0.0s\n",
      "[CV] END ...................................C=100, gamma=0.1; total time=   0.0s\n",
      "[CV] END ...................................C=100, gamma=0.1; total time=   0.0s\n",
      "[CV] END ...................................C=100, gamma=0.1; total time=   0.0s\n",
      "[CV] END ..................................C=100, gamma=0.01; total time=   0.0s\n",
      "[CV] END ..................................C=100, gamma=0.01; total time=   0.0s\n",
      "[CV] END ..................................C=100, gamma=0.01; total time=   0.0s\n",
      "[CV] END ..................................C=100, gamma=0.01; total time=   0.0s\n",
      "[CV] END ..................................C=100, gamma=0.01; total time=   0.0s\n",
      "[CV] END .................................C=100, gamma=0.001; total time=   0.0s\n",
      "[CV] END .................................C=100, gamma=0.001; total time=   0.0s\n",
      "[CV] END .................................C=100, gamma=0.001; total time=   0.0s\n",
      "[CV] END .................................C=100, gamma=0.001; total time=   0.0s\n",
      "[CV] END .................................C=100, gamma=0.001; total time=   0.0s\n"
     ]
    },
    {
     "data": {
      "text/plain": [
       "GridSearchCV(estimator=SVC(),\n",
       "             param_grid={'C': [0.1, 1, 10, 100],\n",
       "                         'gamma': [1, 0.1, 0.01, 0.001]},\n",
       "             verbose=2)"
      ]
     },
     "execution_count": 40,
     "metadata": {},
     "output_type": "execute_result"
    }
   ],
   "source": [
    "param_grid = {'C':[0.1,1,10,100],'gamma':[1,0.1,0.01,0.001]}\n",
    "grid= GridSearchCV(SVC(),param_grid,refit= True,verbose=2)#verbose= 2 means one line per epoch,epoch means iterations\n",
    "grid.fit(x_train,y_train)"
   ]
  },
  {
   "cell_type": "code",
   "execution_count": 41,
   "metadata": {},
   "outputs": [
    {
     "name": "stdout",
     "output_type": "stream",
     "text": [
      "Accuracy Score: 0.6615384615384615\n"
     ]
    }
   ],
   "source": [
    "grid_pred= grid.predict(x_test)\n",
    "print(f'Accuracy Score: {metrics.accuracy_score(y_test,grid_pred)}')"
   ]
  },
  {
   "cell_type": "code",
   "execution_count": 42,
   "metadata": {},
   "outputs": [
    {
     "name": "stdout",
     "output_type": "stream",
     "text": [
      "[[ 6 21]\n",
      " [ 1 37]]\n",
      "              precision    recall  f1-score   support\n",
      "\n",
      "           0       0.86      0.22      0.35        27\n",
      "           1       0.64      0.97      0.77        38\n",
      "\n",
      "    accuracy                           0.66        65\n",
      "   macro avg       0.75      0.60      0.56        65\n",
      "weighted avg       0.73      0.66      0.60        65\n",
      "\n"
     ]
    }
   ],
   "source": [
    "print(confusion_matrix(y_test, grid_pred))\n",
    "print(classification_report(y_test, grid_pred))"
   ]
  },
  {
   "cell_type": "markdown",
   "metadata": {},
   "source": [
    "from sklearn.model_selection import cross_val_score\n",
    "print(cross_val_score(y_test, grid_pred))#used it wrongly not particularly necessary"
   ]
  },
  {
   "cell_type": "code",
   "execution_count": 44,
   "metadata": {},
   "outputs": [
    {
     "data": {
      "text/plain": [
       "<matplotlib.axes._subplots.AxesSubplot at 0xc3bce71278>"
      ]
     },
     "execution_count": 44,
     "metadata": {},
     "output_type": "execute_result"
    },
    {
     "data": {
      "image/png": "[encoded data removed]",
      "text/plain": [
       "<Figure size 432x288 with 1 Axes>"
      ]
     },
     "metadata": {
      "needs_background": "light"
     },
     "output_type": "display_data"
    }
   ],
   "source": [
    "sns.scatterplot(y_test,grid_pred)#how scatter plot isnt linear pfft"
   ]
  },
  {
   "cell_type": "code",
   "execution_count": 45,
   "metadata": {},
   "outputs": [
    {
     "name": "stderr",
     "output_type": "stream",
     "text": [
      "C:\\Users\\Honour Jesus\\Anaconda3\\lib\\site-packages\\scipy\\stats\\stats.py:1713: FutureWarning: Using a non-tuple sequence for multidimensional indexing is deprecated; use `arr[tuple(seq)]` instead of `arr[seq]`. In the future this will be interpreted as an array index, `arr[np.array(seq)]`, which will result either in an error or a different result.\n",
      "  return np.add.reduce(sorted[indexer] * weights, axis=axis) / sumval\n"
     ]
    },
    {
     "data": {
      "text/plain": [
       "<matplotlib.axes._subplots.AxesSubplot at 0xc3ba89b630>"
      ]
     },
     "execution_count": 45,
     "metadata": {},
     "output_type": "execute_result"
    },
    {
     "data": {
      "image/png": "[encoded data removed]",
      "text/plain": [
       "<Figure size 432x288 with 1 Axes>"
      ]
     },
     "metadata": {
      "needs_background": "light"
     },
     "output_type": "display_data"
    }
   ],
   "source": [
    "sns.distplot(y_test-grid_pred)"
   ]
  },
  {
   "cell_type": "code",
   "execution_count": 47,
   "metadata": {},
   "outputs": [
    {
     "name": "stderr",
     "output_type": "stream",
     "text": [
      "C:\\Users\\Honour Jesus\\Anaconda3\\lib\\site-packages\\scipy\\stats\\stats.py:1713: FutureWarning: Using a non-tuple sequence for multidimensional indexing is deprecated; use `arr[tuple(seq)]` instead of `arr[seq]`. In the future this will be interpreted as an array index, `arr[np.array(seq)]`, which will result either in an error or a different result.\n",
      "  return np.add.reduce(sorted[indexer] * weights, axis=axis) / sumval\n"
     ]
    },
    {
     "data": {
      "text/plain": [
       "<matplotlib.axes._subplots.AxesSubplot at 0xc3bcec92b0>"
      ]
     },
     "execution_count": 47,
     "metadata": {},
     "output_type": "execute_result"
    },
    {
     "data": {
      "image/png": "[encoded data removed]",
      "text/plain": [
       "<Figure size 432x288 with 1 Axes>"
      ]
     },
     "metadata": {
      "needs_background": "light"
     },
     "output_type": "display_data"
    }
   ],
   "source": [
    "sns.regplot(y_test,grid_pred)"
   ]
  },
  {
   "cell_type": "markdown",
   "metadata": {},
   "source": [
    "### This model isnt the best"
   ]
  },
  {
   "cell_type": "code",
   "execution_count": 48,
   "metadata": {},
   "outputs": [],
   "source": [
    "#open a file to store your data\n",
    "import pickle\n",
    "file=open('job_placement_model.pkl','wb')\n",
    "#dump information to the file\n",
    "pickle.dump(grid, file)"
   ]
  },
  {
   "cell_type": "code",
   "execution_count": null,
   "metadata": {},
   "outputs": [],
   "source": []
  }
 ],
 "metadata": {
  "kernelspec": {
   "display_name": "Python 3",
   "language": "python",
   "name": "python3"
  },
  "language_info": {
   "codemirror_mode": {
    "name": "ipython",
    "version": 3
   },
   "file_extension": ".py",
   "mimetype": "text/x-python",
   "name": "python",
   "nbconvert_exporter": "python",
   "pygments_lexer": "ipython3",
   "version": "3.7.0"
  }
 },
 "nbformat": 4,
 "nbformat_minor": 2
}
